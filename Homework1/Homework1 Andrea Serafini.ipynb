{
 "cells": [
  {
   "cell_type": "markdown",
   "metadata": {},
   "source": [
    "Artificial Intelligence 2020/21Agent and Infrastructure implementation Homework 1 assigned 19/10/2021 due 27/10/21(Recommended: on a python jupyter notebook)\n",
    "\n",
    "Implement “Infastructure” the main{} that runs the “simulation” of the agents Agenti acting in the world:- State/world-situation representation- main(S(t), Ai(t))=S(t+1);main(S(t)){loop{for i : Ai(t)=action(Agenti,S(t)); S(t+1)= for i : apply action Ai(t) on S(t)}}Implement agents that use the  various Heuristic Search Algorithms...\n",
    "Instantiate your infrastructure with a single agent to solve a puzzle of your choice (no TICTACTOE...)Write a report describing your implementations and a statistics over sample runs .\n",
    "\n",
    "Your statistic should compare the performance of different agents running different Search Algo and/or different heuristic evaluations\n",
    "\n",
    "Instantiate your infrastructure with two  agents to play a board game (recommended chess)(as before main(S(t), Ai(t))=S(t+1); but now agent1 does nothing when t=even and plays a move when t=odd, and viceversa for agent2.Instructions and recommendations:1.Keep your implementation as modular as possible, keeping various components  (infrastructure, state representation and computation of agent actions effects, agents, search algo, Heuristic functions...) well separated from each other and/or encapsulated...For example, it should be possible , given an implementation that plays chess, to use it to play a different game by simply changing the game model (representation and functions).2. You can import existing libraries or other implementations (clearly state, when you do so, your source) as long as  you clearly distinguish what  you haveimported from what you have created yourself.Grading will  highly depend on how smart is the modularity of your implementation and will consider the originality of what you turn in (see point 2above)"
   ]
  },
  {
   "cell_type": "code",
   "execution_count": 1,
   "metadata": {},
   "outputs": [],
   "source": [
    "# avoid recursion limit errors\n",
    "import sys\n",
    "sys.setrecursionlimit(10000)"
   ]
  },
  {
   "cell_type": "code",
   "execution_count": 2,
   "metadata": {},
   "outputs": [],
   "source": [
    "import random\n",
    "import heapq\n",
    "import math\n",
    "import sys\n",
    "import time\n",
    "from collections import defaultdict, deque, Counter\n",
    "from itertools import combinations\n",
    "from IPython.display import clear_output\n",
    "import timeit\n",
    "\n",
    "#import numpy as np\n",
    "#import pandas as pd"
   ]
  },
  {
   "cell_type": "markdown",
   "metadata": {},
   "source": [
    "# Data Structure"
   ]
  },
  {
   "cell_type": "code",
   "execution_count": 3,
   "metadata": {},
   "outputs": [],
   "source": [
    "# The node object represent a generic node of the search tree\n",
    "# each node has a parent , a state, an action and a path_cost\n",
    "\n",
    "class Node:\n",
    "    \n",
    "    #constructor\n",
    "    def __init__ (self, state, parent = None, action = None, path_cost = 0):\n",
    "        self.__dict__.update (state = state, parent = parent, action = action, path_cost = path_cost)\n",
    "        \n",
    "    #representation\n",
    "    def __repr__(self):\n",
    "        return '<{}>'.format(self.state)\n",
    "    #lenght\n",
    "    def __len__(self):\n",
    "        return 0 if self.parent is None else (1+ len(self.parent))\n",
    "    #less than\n",
    "    def __lt__(self,node):\n",
    "        return self.path_cost < node.path_cost\n",
    " "
   ]
  },
  {
   "cell_type": "code",
   "execution_count": 4,
   "metadata": {},
   "outputs": [],
   "source": [
    "#\n",
    "# Problem \n",
    "#\n",
    "class Problem(object):\n",
    "    def __init__(self, initial=None, goal=None, **kwds): \n",
    "        self.__dict__.update(initial=initial, goal=goal, **kwds) \n",
    "        \n",
    "    def actions(self, state):  \n",
    "        raise NotImplementedError\n",
    "    def result(self, state, action):\n",
    "        raise NotImplementedError\n",
    "    def is_goal(self, state):        \n",
    "        return state == self.goal\n",
    "    def action_cost(self, s, a, s1):\n",
    "        return 1\n",
    "    def h(self, node):              \n",
    "        return 0\n",
    "    \n",
    "    def __str__(self):\n",
    "        return '{}({!r}, {!r})'.format(\n",
    "            type(self).__name__, self.initial, self.goal)"
   ]
  },
  {
   "cell_type": "code",
   "execution_count": 5,
   "metadata": {},
   "outputs": [],
   "source": [
    "#fail is used to stop the search because the search alg cant find the solution\n",
    "fail = Node('fail', path_cost=math.inf)\n",
    "# cutoff node is used\n",
    "cutoff  = Node('cutoff',  path_cost=math.inf) "
   ]
  },
  {
   "cell_type": "code",
   "execution_count": 6,
   "metadata": {},
   "outputs": [],
   "source": [
    "#generate child nodes  \n",
    "def expandChilds(problem, node):\n",
    "    s = node.state\n",
    "    for action in problem.actions(s):\n",
    "        #from a state s and an action a the problem go to state s1\n",
    "        s1 = problem.result(s, action)\n",
    "        cost = node.path_cost + problem.action_cost(s, action, s1)\n",
    "        yield Node(s1, node, action, cost)\n",
    "\n",
    "#sequence actions to reach a node        \n",
    "def path_actions(node):\n",
    "    if node.parent is None:\n",
    "        return []  \n",
    "    return path_actions(node.parent) + [node.action]\n",
    "\n",
    "#sequence of states \n",
    "def path_states(node):\n",
    "    if node in (cutoff, fail, None): \n",
    "        return []\n",
    "    return path_states(node.parent) + [node.state]   \n"
   ]
  },
  {
   "cell_type": "code",
   "execution_count": 7,
   "metadata": {},
   "outputs": [],
   "source": [
    "\n",
    "class HeapQueue:\n",
    "    #A queue in which the item with minimum f(item) is always popped first.\n",
    "\n",
    "    def __init__(self, items=(), key=lambda x: x): \n",
    "        self.key = key\n",
    "        self.items = [] # a heap of (score, item) pairs\n",
    "        for item in items:\n",
    "            self.add(item)\n",
    "         \n",
    "    def add(self, item):\n",
    "        pair = (self.key(item), item)\n",
    "        heapq.heappush(self.items, pair)\n",
    "\n",
    "   #Pop and return the item with min f(item) value.\n",
    "    def pop(self):\n",
    "        return heapq.heappop(self.items)[1]\n",
    "    \n",
    "    def top(self): return self.items[0][1]\n",
    "\n",
    "    def __len__(self): return len(self.items)"
   ]
  },
  {
   "cell_type": "code",
   "execution_count": 8,
   "metadata": {},
   "outputs": [],
   "source": [
    "class Stats():\n",
    "\n",
    "    #constructor\n",
    "    def __init__ (self, initial, final, explored, path_cost,time,name):\n",
    "        self.__dict__.update (initial = initial, final = final, explored = explored, path_cost = path_cost, time = time, name = name)\n",
    "    \n",
    "    def get_stats(self,stats):\n",
    "        return stats"
   ]
  },
  {
   "cell_type": "code",
   "execution_count": 9,
   "metadata": {},
   "outputs": [],
   "source": [
    "stats=[]"
   ]
  },
  {
   "cell_type": "code",
   "execution_count": 10,
   "metadata": {},
   "outputs": [],
   "source": [
    "def report (problem,exploredCount,time,node,name):         \n",
    "    print ('Initial State:'+ str(problem.initial)+' | '+'Explored Nodes:'+ str(exploredCount)+' | '+'Path Cost:'+ str(node.path_cost)+' | '+'Elapsed Time:'+ str(time)[:6]+'|'+'\\n Final State:'+' | '+str(node.state))\n",
    "    stats.append(Stats(str(problem.initial),str(node.state),str(exploredCount),str(node.path_cost),str(time)[:6],name))\n",
    "\n",
    "def launcher(searchers, problems):\n",
    "    for searcher in searchers:\n",
    "        print('********************************************************************************')\n",
    "        print(searcher.__name__ + ':')\n",
    "        for p in problems:\n",
    "            soln = searcher(p)"
   ]
  },
  {
   "cell_type": "code",
   "execution_count": 11,
   "metadata": {},
   "outputs": [],
   "source": [
    "## Search Alg ##\n",
    "\n",
    "##BFS##\n",
    "\n",
    "\n",
    "def best_first_search(problem, f, name = 'best_first_search'):\n",
    "    exploredCount = 0\n",
    "    t0 = time.time()\n",
    "    #Search nodes with minimum f(node) value first.\n",
    "    node = Node(problem.initial)\n",
    "    horizon = HeapQueue([node], key=f)\n",
    "    explored = {problem.initial: node}\n",
    "    while horizon:\n",
    "        node = horizon.pop()\n",
    "        exploredCount= exploredCount+1 \n",
    "        if problem.is_goal(node.state):\n",
    "            t1 = time.time() - t0\n",
    "            report (problem,exploredCount,t1, node,name )\n",
    "            return node\n",
    "        for child in expandChilds(problem, node):\n",
    "            s = child.state\n",
    "            if s not in explored or child.path_cost < explored[s].path_cost:\n",
    "                explored[s] = child\n",
    "                horizon.add(child)\n",
    "                \n",
    "    #print ('Fail')            \n",
    "    return fail\n",
    "def g(n): \n",
    "    \"\"\"Return the path cost to arrive at node n\"\"\"\n",
    "    return n.path_cost\n",
    "\n",
    "def greedy_bfs(problem, h=None, name= 'greedy_bfs'):\n",
    "    \"\"\"Search nodes with minimum h(n).\"\"\"\n",
    "    h = h or problem.h\n",
    "    return best_first_search(problem, f=h, name= 'greedy_bfs')\n",
    "\n",
    "def uniform_cost_search(problem):\n",
    "    \"Search nodes with minimum path cost first.\"\n",
    "    return best_first_search(problem, f=g, name ='uniform_cost_search')\n",
    "\n",
    "def breadth_first_bfs(problem):\n",
    "    return best_first_search(problem, f=len, name = 'breadth_first_bfs' )\n",
    "\n",
    "def astar_search(problem, h=None ,name = 'astar_search'):\n",
    "    #Search nodes with minimum f(n) = g(n) + h(n).\n",
    "    h = h or problem.h\n",
    "    return best_first_search(problem, f=lambda n: g(n) + h(n), name = name)\n",
    "\n"
   ]
  },
  {
   "cell_type": "code",
   "execution_count": 12,
   "metadata": {},
   "outputs": [],
   "source": [
    "\n",
    "# EightPuzzle class\n",
    "\n",
    "class EightPuzzle(Problem):\n",
    "    \"\"\" The problem of sliding tiles numbered from 1 to 8 on a 3x3 board,\n",
    "    where one of the squares is a blank, trying to reach a goal configuration.\n",
    "    A board state is represented as a tuple of length 9, where the element at index i \n",
    "    represents the tile number at index i, or 0 if for the empty square, e.g. the goal:\n",
    "        1 2 3\n",
    "        4 5 6 ==> (1, 2, 3, 4, 5, 6, 7, 8, 0)\n",
    "        7 8 _\n",
    "    \"\"\"\n",
    "\n",
    "    def __init__(self, initial, goal=(1, 2, 3, 4, 5, 6, 7, 8, 0)):\n",
    "        assert getInvCount(initial) % 2 == getInvCount(goal) % 2 # Parity check\n",
    "        self.initial, self.goal = initial, goal\n",
    "    \n",
    "    def actions(self, state):\n",
    "        \"\"\"The indexes of the squares that the blank can move to.\"\"\"\n",
    "        moves = ((1, 3),    (0, 2, 4),    (1, 5),\n",
    "                 (0, 4, 6), (1, 3, 5, 7), (2, 4, 8),\n",
    "                 (3, 7),    (4, 6, 8),    (7, 5))\n",
    "        blank = state.index(0)\n",
    "        return moves[blank]\n",
    "    \n",
    "    def result(self, state, action):\n",
    "        \"\"\"Swap the blank with the square numbered `action`.\"\"\"\n",
    "        s = list(state)\n",
    "        blank = state.index(0)\n",
    "        s[action], s[blank] = s[blank], s[action]\n",
    "        return tuple(s)\n",
    "    \n",
    "    def h1(self, node):\n",
    "        \"\"\"The misplaced tiles heuristic.\"\"\"\n",
    "        return hamming_distance(node.state, self.goal)\n",
    "    \n",
    "    def h2(self, node):\n",
    "        \"\"\"The Manhattan heuristic.\"\"\"\n",
    "        X = (0, 1, 2, 0, 1, 2, 0, 1, 2)\n",
    "        Y = (0, 0, 0, 1, 1, 1, 2, 2, 2)\n",
    "        return sum(abs(X[s] - X[g]) + abs(Y[s] - Y[g])\n",
    "                   for (s, g) in zip(node.state, self.goal) if s != 0)\n",
    "    \n",
    "    def h(self, node): return self.h2(node)\n",
    "    \n",
    "    \n",
    "def hamming_distance(A, B):\n",
    "    \"Number of positions where vectors A and B are different.\"\n",
    "    return sum(a != b for a, b in zip(A, B))\n",
    "    \n",
    "\n",
    "def getInvCount(arr):\n",
    "    inv_count = 0\n",
    "    empty_value = 0\n",
    "    for i in range(0, 9):\n",
    "        for j in range(i + 1, 9):\n",
    "            if arr[j] != empty_value and arr[i] != empty_value and arr[i] > arr[j]:\n",
    "                inv_count += 1\n",
    "    return inv_count\n",
    "    \n",
    "    \n",
    "def board8(board, fmt=(3 * '{} {} {}\\n')):\n",
    "    \"A string representing an 8-puzzle board\"\n",
    "    return fmt.format(*board).replace('0', '_')"
   ]
  },
  {
   "cell_type": "code",
   "execution_count": 13,
   "metadata": {},
   "outputs": [],
   "source": [
    "e1 = EightPuzzle((1, 4, 2, 0, 7, 5, 3, 6, 8))\n",
    "e2 = EightPuzzle((0, 1, 2, 3, 4, 5, 6, 7, 8))\n",
    "e3 = EightPuzzle((4, 0, 2, 5, 1, 3, 7, 8, 6))\n",
    "e4 = EightPuzzle((7, 2, 4, 5, 0, 6, 8, 3, 1))\n",
    "e5 = EightPuzzle((8, 6, 7, 2, 5, 4, 3, 0, 1))\n",
    "e6 = EightPuzzle((2, 1, 3, 5, 4, 6, 7, 8, 0))\n",
    "e7 = EightPuzzle((1, 2, 4, 3, 8, 6, 7, 5, 0))\n",
    "\n",
    "problems = [e1, e2, e3, e4, e5,e6,e7]\n",
    "#problems = [e7]"
   ]
  },
  {
   "cell_type": "code",
   "execution_count": 14,
   "metadata": {},
   "outputs": [],
   "source": [
    "def astar_misplaced_tiles(problem): return astar_search(problem, h = problem.h1,name ='astar_misplaced_tiles')\n",
    "def astar_manhattan(problem): return astar_search(problem, h = problem.h2, name ='astar_manhattan')\n",
    "def greedy_bfs_hamming(problem): return greedy_bfs(problem, h = problem.h, name = 'Greedy_BFS_hamming')\n",
    "searchers = [greedy_bfs_hamming,\n",
    "             breadth_first_bfs,\n",
    "             uniform_cost_search,\n",
    "             astar_misplaced_tiles,\n",
    "             astar_manhattan]\n",
    "\n",
    "#searchers = [breadth_first_bfs]"
   ]
  },
  {
   "cell_type": "code",
   "execution_count": 15,
   "metadata": {},
   "outputs": [
    {
     "name": "stdout",
     "output_type": "stream",
     "text": [
      "********************************************************************************\n",
      "greedy_bfs_hamming:\n",
      "Initial State:(1, 4, 2, 0, 7, 5, 3, 6, 8) | Explored Nodes:69 | Path Cost:31 | Elapsed Time:0.0019|\n",
      " Final State: | (1, 2, 3, 4, 5, 6, 7, 8, 0)\n",
      "Initial State:(0, 1, 2, 3, 4, 5, 6, 7, 8) | Explored Nodes:959 | Path Cost:66 | Elapsed Time:0.0260|\n",
      " Final State: | (1, 2, 3, 4, 5, 6, 7, 8, 0)\n",
      "Initial State:(4, 0, 2, 5, 1, 3, 7, 8, 6) | Explored Nodes:84 | Path Cost:7 | Elapsed Time:0.0020|\n",
      " Final State: | (1, 2, 3, 4, 5, 6, 7, 8, 0)\n",
      "Initial State:(7, 2, 4, 5, 0, 6, 8, 3, 1) | Explored Nodes:14275 | Path Cost:74 | Elapsed Time:0.4350|\n",
      " Final State: | (1, 2, 3, 4, 5, 6, 7, 8, 0)\n",
      "Initial State:(8, 6, 7, 2, 5, 4, 3, 0, 1) | Explored Nodes:1560 | Path Cost:75 | Elapsed Time:0.0429|\n",
      " Final State: | (1, 2, 3, 4, 5, 6, 7, 8, 0)\n",
      "Initial State:(2, 1, 3, 5, 4, 6, 7, 8, 0) | Explored Nodes:323 | Path Cost:16 | Elapsed Time:0.0089|\n",
      " Final State: | (1, 2, 3, 4, 5, 6, 7, 8, 0)\n",
      "Initial State:(1, 2, 4, 3, 8, 6, 7, 5, 0) | Explored Nodes:235 | Path Cost:22 | Elapsed Time:0.0060|\n",
      " Final State: | (1, 2, 3, 4, 5, 6, 7, 8, 0)\n",
      "********************************************************************************\n",
      "breadth_first_bfs:\n",
      "Initial State:(1, 4, 2, 0, 7, 5, 3, 6, 8) | Explored Nodes:105408 | Path Cost:23 | Elapsed Time:3.1363|\n",
      " Final State: | (1, 2, 3, 4, 5, 6, 7, 8, 0)\n",
      "Initial State:(0, 1, 2, 3, 4, 5, 6, 7, 8) | Explored Nodes:80042 | Path Cost:22 | Elapsed Time:2.4573|\n",
      " Final State: | (1, 2, 3, 4, 5, 6, 7, 8, 0)\n",
      "Initial State:(4, 0, 2, 5, 1, 3, 7, 8, 6) | Explored Nodes:139 | Path Cost:7 | Elapsed Time:0.0019|\n",
      " Final State: | (1, 2, 3, 4, 5, 6, 7, 8, 0)\n",
      "Initial State:(7, 2, 4, 5, 0, 6, 8, 3, 1) | Explored Nodes:55425 | Path Cost:20 | Elapsed Time:1.6779|\n",
      " Final State: | (1, 2, 3, 4, 5, 6, 7, 8, 0)\n",
      "Initial State:(8, 6, 7, 2, 5, 4, 3, 0, 1) | Explored Nodes:181439 | Path Cost:31 | Elapsed Time:5.3013|\n",
      " Final State: | (1, 2, 3, 4, 5, 6, 7, 8, 0)\n",
      "Initial State:(2, 1, 3, 5, 4, 6, 7, 8, 0) | Explored Nodes:8767 | Path Cost:16 | Elapsed Time:0.2260|\n",
      " Final State: | (1, 2, 3, 4, 5, 6, 7, 8, 0)\n",
      "Initial State:(1, 2, 4, 3, 8, 6, 7, 5, 0) | Explored Nodes:75204 | Path Cost:22 | Elapsed Time:2.2935|\n",
      " Final State: | (1, 2, 3, 4, 5, 6, 7, 8, 0)\n",
      "********************************************************************************\n",
      "uniform_cost_search:\n",
      "Initial State:(1, 4, 2, 0, 7, 5, 3, 6, 8) | Explored Nodes:105408 | Path Cost:23 | Elapsed Time:2.1400|\n",
      " Final State: | (1, 2, 3, 4, 5, 6, 7, 8, 0)\n",
      "Initial State:(0, 1, 2, 3, 4, 5, 6, 7, 8) | Explored Nodes:80042 | Path Cost:22 | Elapsed Time:1.6412|\n",
      " Final State: | (1, 2, 3, 4, 5, 6, 7, 8, 0)\n",
      "Initial State:(4, 0, 2, 5, 1, 3, 7, 8, 6) | Explored Nodes:139 | Path Cost:7 | Elapsed Time:0.0019|\n",
      " Final State: | (1, 2, 3, 4, 5, 6, 7, 8, 0)\n",
      "Initial State:(7, 2, 4, 5, 0, 6, 8, 3, 1) | Explored Nodes:55425 | Path Cost:20 | Elapsed Time:1.1410|\n",
      " Final State: | (1, 2, 3, 4, 5, 6, 7, 8, 0)\n",
      "Initial State:(8, 6, 7, 2, 5, 4, 3, 0, 1) | Explored Nodes:181439 | Path Cost:31 | Elapsed Time:3.6045|\n",
      " Final State: | (1, 2, 3, 4, 5, 6, 7, 8, 0)\n",
      "Initial State:(2, 1, 3, 5, 4, 6, 7, 8, 0) | Explored Nodes:8767 | Path Cost:16 | Elapsed Time:0.1819|\n",
      " Final State: | (1, 2, 3, 4, 5, 6, 7, 8, 0)\n",
      "Initial State:(1, 2, 4, 3, 8, 6, 7, 5, 0) | Explored Nodes:75204 | Path Cost:22 | Elapsed Time:1.5120|\n",
      " Final State: | (1, 2, 3, 4, 5, 6, 7, 8, 0)\n",
      "********************************************************************************\n",
      "astar_misplaced_tiles:\n",
      "Initial State:(1, 4, 2, 0, 7, 5, 3, 6, 8) | Explored Nodes:14558 | Path Cost:23 | Elapsed Time:0.3819|\n",
      " Final State: | (1, 2, 3, 4, 5, 6, 7, 8, 0)\n",
      "Initial State:(0, 1, 2, 3, 4, 5, 6, 7, 8) | Explored Nodes:8726 | Path Cost:22 | Elapsed Time:0.2049|\n",
      " Final State: | (1, 2, 3, 4, 5, 6, 7, 8, 0)\n",
      "Initial State:(4, 0, 2, 5, 1, 3, 7, 8, 6) | Explored Nodes:15 | Path Cost:7 | Elapsed Time:0.0|\n",
      " Final State: | (1, 2, 3, 4, 5, 6, 7, 8, 0)\n",
      "Initial State:(7, 2, 4, 5, 0, 6, 8, 3, 1) | Explored Nodes:3830 | Path Cost:20 | Elapsed Time:0.0880|\n",
      " Final State: | (1, 2, 3, 4, 5, 6, 7, 8, 0)\n",
      "Initial State:(8, 6, 7, 2, 5, 4, 3, 0, 1) | Explored Nodes:145584 | Path Cost:31 | Elapsed Time:3.8343|\n",
      " Final State: | (1, 2, 3, 4, 5, 6, 7, 8, 0)\n",
      "Initial State:(2, 1, 3, 5, 4, 6, 7, 8, 0) | Explored Nodes:707 | Path Cost:16 | Elapsed Time:0.0160|\n",
      " Final State: | (1, 2, 3, 4, 5, 6, 7, 8, 0)\n",
      "Initial State:(1, 2, 4, 3, 8, 6, 7, 5, 0) | Explored Nodes:8822 | Path Cost:22 | Elapsed Time:0.2080|\n",
      " Final State: | (1, 2, 3, 4, 5, 6, 7, 8, 0)\n",
      "********************************************************************************\n",
      "astar_manhattan:\n",
      "Initial State:(1, 4, 2, 0, 7, 5, 3, 6, 8) | Explored Nodes:5027 | Path Cost:23 | Elapsed Time:0.1460|\n",
      " Final State: | (1, 2, 3, 4, 5, 6, 7, 8, 0)\n",
      "Initial State:(0, 1, 2, 3, 4, 5, 6, 7, 8) | Explored Nodes:2731 | Path Cost:22 | Elapsed Time:0.0790|\n",
      " Final State: | (1, 2, 3, 4, 5, 6, 7, 8, 0)\n",
      "Initial State:(4, 0, 2, 5, 1, 3, 7, 8, 6) | Explored Nodes:13 | Path Cost:7 | Elapsed Time:0.0|\n",
      " Final State: | (1, 2, 3, 4, 5, 6, 7, 8, 0)\n",
      "Initial State:(7, 2, 4, 5, 0, 6, 8, 3, 1) | Explored Nodes:1669 | Path Cost:20 | Elapsed Time:0.0730|\n",
      " Final State: | (1, 2, 3, 4, 5, 6, 7, 8, 0)\n",
      "Initial State:(8, 6, 7, 2, 5, 4, 3, 0, 1) | Explored Nodes:72165 | Path Cost:31 | Elapsed Time:2.2958|\n",
      " Final State: | (1, 2, 3, 4, 5, 6, 7, 8, 0)\n",
      "Initial State:(2, 1, 3, 5, 4, 6, 7, 8, 0) | Explored Nodes:404 | Path Cost:16 | Elapsed Time:0.0109|\n",
      " Final State: | (1, 2, 3, 4, 5, 6, 7, 8, 0)\n",
      "Initial State:(1, 2, 4, 3, 8, 6, 7, 5, 0) | Explored Nodes:3527 | Path Cost:22 | Elapsed Time:0.1020|\n",
      " Final State: | (1, 2, 3, 4, 5, 6, 7, 8, 0)\n"
     ]
    }
   ],
   "source": [
    "launcher (searchers,problems)"
   ]
  },
  {
   "cell_type": "code",
   "execution_count": 16,
   "metadata": {},
   "outputs": [
    {
     "data": {
      "text/plain": [
       "35"
      ]
     },
     "execution_count": 16,
     "metadata": {},
     "output_type": "execute_result"
    }
   ],
   "source": [
    "len(stats)"
   ]
  },
  {
   "cell_type": "code",
   "execution_count": 17,
   "metadata": {},
   "outputs": [
    {
     "data": {
      "text/plain": [
       "'(1, 4, 2, 0, 7, 5, 3, 6, 8)'"
      ]
     },
     "execution_count": 17,
     "metadata": {},
     "output_type": "execute_result"
    }
   ],
   "source": [
    "stats[0].initial"
   ]
  },
  {
   "cell_type": "code",
   "execution_count": 18,
   "metadata": {},
   "outputs": [
    {
     "data": {
      "text/plain": [
       "'0.0019'"
      ]
     },
     "execution_count": 18,
     "metadata": {},
     "output_type": "execute_result"
    }
   ],
   "source": [
    "stats[0].time"
   ]
  },
  {
   "cell_type": "code",
   "execution_count": 19,
   "metadata": {},
   "outputs": [],
   "source": [
    "import matplotlib.pyplot as plt\n",
    "def plot_problem(stats,problem):\n",
    "    plt.rcParams[\"figure.figsize\"] = (15,5)\n",
    "    fig = plt.figure()\n",
    "    ax = fig.add_axes([0,0,1,1])\n",
    "    time = []\n",
    "    searcher = []  \n",
    "    for s in range (len(stats)):\n",
    "        if str(problem.initial) == str(stats[s].initial):\n",
    "            searcher.append(str(stats[s].name)+'\\n'+str(stats[s].initial))\n",
    "            time.append(float(stats[s].time))\n",
    "    ax.bar(searcher,time)\n",
    "    plt.show()\n",
    "    \n",
    "def plot_all_problem(stats,problems):\n",
    "    for p in range(len(problems)):\n",
    "        plot_problem(stats,problems[p])"
   ]
  },
  {
   "cell_type": "code",
   "execution_count": 20,
   "metadata": {},
   "outputs": [
    {
     "data": {
      "image/png": "[encoded data removed]",
      "text/plain": [
       "<Figure size 1080x360 with 1 Axes>"
      ]
     },
     "metadata": {
      "needs_background": "light"
     },
     "output_type": "display_data"
    },
    {
     "data": {
      "image/png": "[encoded data removed]",
      "text/plain": [
       "<Figure size 1080x360 with 1 Axes>"
      ]
     },
     "metadata": {
      "needs_background": "light"
     },
     "output_type": "display_data"
    },
    {
     "data": {
      "image/png": "[encoded data removed]",
      "text/plain": [
       "<Figure size 1080x360 with 1 Axes>"
      ]
     },
     "metadata": {
      "needs_background": "light"
     },
     "output_type": "display_data"
    },
    {
     "data": {
      "image/png": "[encoded data removed]",
      "text/plain": [
       "<Figure size 1080x360 with 1 Axes>"
      ]
     },
     "metadata": {
      "needs_background": "light"
     },
     "output_type": "display_data"
    },
    {
     "data": {
      "image/png": "[encoded data removed]",
      "text/plain": [
       "<Figure size 1080x360 with 1 Axes>"
      ]
     },
     "metadata": {
      "needs_background": "light"
     },
     "output_type": "display_data"
    },
    {
     "data": {
      "image/png": "[encoded data removed]",
      "text/plain": [
       "<Figure size 1080x360 with 1 Axes>"
      ]
     },
     "metadata": {
      "needs_background": "light"
     },
     "output_type": "display_data"
    },
    {
     "data": {
      "image/png": "[encoded data removed]",
      "text/plain": [
       "<Figure size 1080x360 with 1 Axes>"
      ]
     },
     "metadata": {
      "needs_background": "light"
     },
     "output_type": "display_data"
    }
   ],
   "source": [
    "\n",
    "plot_all_problem(stats,problems)"
   ]
  },
  {
   "cell_type": "code",
   "execution_count": null,
   "metadata": {},
   "outputs": [],
   "source": []
  }
 ],
 "metadata": {
  "kernelspec": {
   "display_name": "Python 3 (ipykernel)",
   "language": "python",
   "name": "python3"
  },
  "language_info": {
   "codemirror_mode": {
    "name": "ipython",
    "version": 3
   },
   "file_extension": ".py",
   "mimetype": "text/x-python",
   "name": "python",
   "nbconvert_exporter": "python",
   "pygments_lexer": "ipython3",
   "version": "3.8.13"
  }
 },
 "nbformat": 4,
 "nbformat_minor": 4
}
