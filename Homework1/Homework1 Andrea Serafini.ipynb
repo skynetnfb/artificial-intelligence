{
 "cells": [
  {
   "cell_type": "code",
   "execution_count": 331,
   "metadata": {},
   "outputs": [],
   "source": [
    "# avoid recursion limit errors\n",
    "import sys\n",
    "sys.setrecursionlimit(10000)"
   ]
  },
  {
   "cell_type": "code",
   "execution_count": 332,
   "metadata": {},
   "outputs": [],
   "source": [
    "import random\n",
    "import heapq\n",
    "import math\n",
    "import sys\n",
    "import time\n",
    "from collections import defaultdict, deque, Counter\n",
    "from itertools import combinations\n",
    "from IPython.display import clear_output\n",
    "import timeit\n",
    "\n",
    "#import numpy as np\n",
    "#import pandas as pd"
   ]
  },
  {
   "cell_type": "markdown",
   "metadata": {},
   "source": [
    "# Data Structure"
   ]
  },
  {
   "cell_type": "code",
   "execution_count": 333,
   "metadata": {},
   "outputs": [],
   "source": [
    "# The node object represent a generic node of the search tree\n",
    "# each node has a parent , a state, an action and a path_cost\n",
    "\n",
    "class Node:\n",
    "    \n",
    "    #constructor\n",
    "    def __init__ (self, state, parent = None, action = None, path_cost = 0):\n",
    "        self.__dict__.update (state = state, parent = parent, action = action, path_cost = path_cost)\n",
    "        \n",
    "    #representation\n",
    "    def __repr__(self):\n",
    "        return '<{}>'.format(self.state)\n",
    "    #lenght\n",
    "    def __len__(self):\n",
    "        return 0 if self.parent is None else (1+ len(self.parent))\n",
    "    #less than\n",
    "    def __lt__(self,node):\n",
    "        return self.path_cost < node.path_cost\n",
    " "
   ]
  },
  {
   "cell_type": "code",
   "execution_count": 334,
   "metadata": {},
   "outputs": [],
   "source": [
    "#\n",
    "# Problem \n",
    "#\n",
    "class Problem(object):\n",
    "    def __init__(self, initial=None, goal=None, **kwds): \n",
    "        self.__dict__.update(initial=initial, goal=goal, **kwds) \n",
    "        \n",
    "    def actions(self, state):  \n",
    "        raise NotImplementedError\n",
    "    def result(self, state, action):\n",
    "        raise NotImplementedError\n",
    "    def is_goal(self, state):        \n",
    "        return state == self.goal\n",
    "    def action_cost(self, s, a, s1):\n",
    "        return 1\n",
    "    def h(self, node):              \n",
    "        return 0\n",
    "    \n",
    "    def __str__(self):\n",
    "        return '{}({!r}, {!r})'.format(\n",
    "            type(self).__name__, self.initial, self.goal)"
   ]
  },
  {
   "cell_type": "code",
   "execution_count": 335,
   "metadata": {},
   "outputs": [],
   "source": [
    "#fail is used to stop the search because the search alg cant find the solution\n",
    "fail = Node('fail', path_cost=math.inf)\n",
    "# cutoff node is used\n",
    "cutoff  = Node('cutoff',  path_cost=math.inf) "
   ]
  },
  {
   "cell_type": "code",
   "execution_count": 336,
   "metadata": {},
   "outputs": [],
   "source": [
    "#generate child nodes  \n",
    "def expandChilds(problem, node):\n",
    "    s = node.state\n",
    "    for action in problem.actions(s):\n",
    "        #from a state s and an action a the problem go to state s1\n",
    "        s1 = problem.result(s, action)\n",
    "        cost = node.path_cost + problem.action_cost(s, action, s1)\n",
    "        yield Node(s1, node, action, cost)\n",
    "\n",
    "#sequence actions to reach a node        \n",
    "def path_actions(node):\n",
    "    if node.parent is None:\n",
    "        return []  \n",
    "    return path_actions(node.parent) + [node.action]\n",
    "\n",
    "#sequence of states \n",
    "def path_states(node):\n",
    "    if node in (cutoff, fail, None): \n",
    "        return []\n",
    "    return path_states(node.parent) + [node.state]   \n"
   ]
  },
  {
   "cell_type": "code",
   "execution_count": 337,
   "metadata": {},
   "outputs": [],
   "source": [
    "#\n",
    "# Queues\n",
    "#\n",
    "FIFOQueue = deque\n",
    "\n",
    "LIFOQueue = list\n",
    "\n",
    "class PriorityQueue:\n",
    "    \"\"\"A queue in which the item with minimum f(item) is always popped first.\"\"\"\n",
    "\n",
    "    def __init__(self, items=(), key=lambda x: x): \n",
    "        self.key = key\n",
    "        self.items = [] # a heap of (score, item) pairs\n",
    "        for item in items:\n",
    "            self.add(item)\n",
    "         \n",
    "    def add(self, item):\n",
    "        \"\"\"Add item to the queuez.\"\"\"\n",
    "        pair = (self.key(item), item)\n",
    "        heapq.heappush(self.items, pair)\n",
    "\n",
    "    def pop(self):\n",
    "        \"\"\"Pop and return the item with min f(item) value.\"\"\"\n",
    "        return heapq.heappop(self.items)[1]\n",
    "    \n",
    "    def top(self): return self.items[0][1]\n",
    "\n",
    "    def __len__(self): return len(self.items)"
   ]
  },
  {
   "cell_type": "code",
   "execution_count": 338,
   "metadata": {},
   "outputs": [],
   "source": [
    "## Search Alg ##\n",
    "\n",
    "##BFS##\n",
    "\n",
    "\n",
    "def best_first_search(problem, f):\n",
    "    exploredCount = 0\n",
    "    \"Search nodes with minimum f(node) value first.\"\n",
    "    node = Node(problem.initial)\n",
    "    horizon = PriorityQueue([node], key=f)\n",
    "    explored = {problem.initial: node}\n",
    "    while horizon:\n",
    "        node = horizon.pop()\n",
    "        exploredCount= exploredCount+1 \n",
    "        if problem.is_goal(node.state):\n",
    "            print ('--------------------------------------')\n",
    "            print ('Initial State:'+ str(problem.initial))\n",
    "            print ('Explored Nodes:'+ str(exploredCount))\n",
    "            print ('Actions:'+ str(len(path_states(node))))\n",
    "            print ('Cost:'+ str(node.path_cost))\n",
    "            print ('Final State:'+ str(node.state))\n",
    "            return node\n",
    "        for child in expandChilds(problem, node):\n",
    "            s = child.state\n",
    "            if s not in explored or child.path_cost < explored[s].path_cost:\n",
    "                explored[s] = child \n",
    "                horizon.add(child)\n",
    "    #print ('Fail')            \n",
    "    return fail\n",
    "\n",
    "\n",
    "def breadth_first_bfs(problem):\n",
    "    return best_first_search(problem, f=len)\n",
    "\n",
    "def astar_search(problem, h=None):\n",
    "    \"\"\"Search nodes with minimum f(n) = g(n) + h(n).\"\"\"\n",
    "    h = h or problem.h\n",
    "    return best_first_search(problem, f=lambda n: g(n) + h(n))"
   ]
  },
  {
   "cell_type": "code",
   "execution_count": 339,
   "metadata": {},
   "outputs": [],
   "source": [
    "#\n",
    "# EightPuzzle class\n",
    "#\n",
    "class EightPuzzle(Problem):\n",
    "    \"\"\" The problem of sliding tiles numbered from 1 to 8 on a 3x3 board,\n",
    "    where one of the squares is a blank, trying to reach a goal configuration.\n",
    "    A board state is represented as a tuple of length 9, where the element at index i \n",
    "    represents the tile number at index i, or 0 if for the empty square, e.g. the goal:\n",
    "        1 2 3\n",
    "        4 5 6 ==> (1, 2, 3, 4, 5, 6, 7, 8, 0)\n",
    "        7 8 _\n",
    "    \"\"\"\n",
    "\n",
    "    def __init__(self, initial, goal=(1, 2, 3, 4, 5, 6, 7, 8, 0)):\n",
    "        assert inversions(initial) % 2 == inversions(goal) % 2 # Parity check\n",
    "        self.initial, self.goal = initial, goal\n",
    "    \n",
    "    def actions(self, state):\n",
    "        \"\"\"The indexes of the squares that the blank can move to.\"\"\"\n",
    "        moves = ((1, 3),    (0, 2, 4),    (1, 5),\n",
    "                 (0, 4, 6), (1, 3, 5, 7), (2, 4, 8),\n",
    "                 (3, 7),    (4, 6, 8),    (7, 5))\n",
    "        blank = state.index(0)\n",
    "        return moves[blank]\n",
    "    \n",
    "    def result(self, state, action):\n",
    "        \"\"\"Swap the blank with the square numbered `action`.\"\"\"\n",
    "        s = list(state)\n",
    "        blank = state.index(0)\n",
    "        s[action], s[blank] = s[blank], s[action]\n",
    "        return tuple(s)\n",
    "    \n",
    "    def h1(self, node):\n",
    "        \"\"\"The misplaced tiles heuristic.\"\"\"\n",
    "        return hamming_distance(node.state, self.goal)\n",
    "    \n",
    "    def h2(self, node):\n",
    "        \"\"\"The Manhattan heuristic.\"\"\"\n",
    "        X = (0, 1, 2, 0, 1, 2, 0, 1, 2)\n",
    "        Y = (0, 0, 0, 1, 1, 1, 2, 2, 2)\n",
    "        return sum(abs(X[s] - X[g]) + abs(Y[s] - Y[g])\n",
    "                   for (s, g) in zip(node.state, self.goal) if s != 0)\n",
    "    \n",
    "    def h(self, node): return self.h2(node)\n",
    "    \n",
    "    \n",
    "def hamming_distance(A, B):\n",
    "    \"Number of positions where vectors A and B are different.\"\n",
    "    return sum(a != b for a, b in zip(A, B))\n",
    "    \n",
    "\n",
    "def inversions(board):\n",
    "    \"The number of times a piece is a smaller number than a following piece.\"\n",
    "    return sum((a > b and a != 0 and b != 0) for (a, b) in combinations(board, 2))\n",
    "    \n",
    "    \n",
    "def board8(board, fmt=(3 * '{} {} {}\\n')):\n",
    "    \"A string representing an 8-puzzle board\"\n",
    "    return fmt.format(*board).replace('0', '_')"
   ]
  },
  {
   "cell_type": "code",
   "execution_count": 340,
   "metadata": {},
   "outputs": [],
   "source": [
    "e1 = EightPuzzle((1, 4, 2, 0, 7, 5, 3, 6, 8))\n",
    "e2 = EightPuzzle((0, 1, 2, 3, 4, 5, 6, 7, 8))\n",
    "e3 = EightPuzzle((4, 0, 2, 5, 1, 3, 7, 8, 6))\n",
    "e4 = EightPuzzle((7, 2, 4, 5, 0, 6, 8, 3, 1))\n",
    "e5 = EightPuzzle((8, 6, 7, 2, 5, 4, 3, 0, 1))"
   ]
  },
  {
   "cell_type": "code",
   "execution_count": 341,
   "metadata": {},
   "outputs": [],
   "source": [
    "problems = [e1, e2, e3, e4, e5]\n",
    "#problems = [e1]"
   ]
  },
  {
   "cell_type": "code",
   "execution_count": 342,
   "metadata": {},
   "outputs": [
    {
     "name": "stdout",
     "output_type": "stream",
     "text": [
      "--------------------------------------\n",
      "Initial State:(1, 4, 2, 0, 7, 5, 3, 6, 8)\n",
      "Explored Nodes:105408\n",
      "Actions:24\n",
      "Cost:23\n",
      "Final State:(1, 2, 3, 4, 5, 6, 7, 8, 0)\n"
     ]
    },
    {
     "data": {
      "text/plain": [
       "<(1, 2, 3, 4, 5, 6, 7, 8, 0)>"
      ]
     },
     "execution_count": 342,
     "metadata": {},
     "output_type": "execute_result"
    }
   ],
   "source": [
    "breadth_first_bfs(e1)"
   ]
  },
  {
   "cell_type": "code",
   "execution_count": 343,
   "metadata": {},
   "outputs": [],
   "source": [
    "#\n",
    "# CountCalls class\n",
    "#\n",
    "class CountCalls:\n",
    "    \"\"\"Delegate all attribute gets to the object, and count them in ._counts\"\"\"\n",
    "    def __init__(self, obj):\n",
    "        self._object = obj\n",
    "        self._counts = Counter()\n",
    "        \n",
    "    def __getattr__(self, attr):\n",
    "        \"Delegate to the original object, after incrementing a counter.\"\n",
    "        self._counts[attr] += 1\n",
    "        return getattr(self._object, attr)\n",
    "\n",
    "        \n",
    "def report(searchers, problems, verbose=True):\n",
    "    \"\"\"Show summary statistics for each searcher (and on each problem unless verbose is false).\"\"\"\n",
    "    for searcher in searchers:\n",
    "        print(searcher.__name__ + ':')\n",
    "        total_counts = Counter()\n",
    "        for p in problems:\n",
    "            prob = CountCalls(p)\n",
    "            \n",
    "            t0 = time.time()\n",
    "            soln = searcher(prob)\n",
    "            t1 = time.time() - t0\n",
    "            \n",
    "            counts = prob._counts; \n",
    "            counts.update(actions=len(soln), cost=soln.path_cost, seconds=t1)\n",
    "            total_counts += counts\n",
    "            if verbose: report_counts(counts, str(p)[:40])\n",
    "        #report_counts(total_counts, 'TOTAL\\n')\n",
    "        \n",
    "def report_counts(counts, name):\n",
    "    \"\"\"Print one line of the counts report.\"\"\"\n",
    "    print('{:9,d} nodes |{:9,d} goal |{:5.0f} cost |{:8,d} actions | {:.4f} seconds | {}'.format(\n",
    "          counts['result'], counts['is_goal'], counts['cost'], counts['actions'], counts['seconds'], name))  "
   ]
  },
  {
   "cell_type": "markdown",
   "metadata": {},
   "source": [
    "def report (search, problem, verbose = True):\n",
    "    prob = CountCalls(problem)\n",
    "    startTime = time.time()\n",
    "    sol = search (problem)\n",
    "    totTime = time.time() - startTime\n",
    "    total_counts = Counter()\n",
    "    #print ('--------------------------------------')\n",
    "    #print ('Initial State:'+ str(problem.initial))\n",
    "    #print ('Actions:'+ str(len(sol)))\n",
    "    #print ('Cost:'+ str(sol.path_cost))\n",
    "    #print ('Time:'+ str(totTime))\n",
    "    #print ('Problem:'+ str(getattr(problem.result)))\n",
    "    counts = prob._counts; \n",
    "    counts.update(actions=len(sol), cost=sol.path_cost, seconds=totTime)\n",
    "    total_counts += counts\n",
    "    if verbose: report_counts(counts, str(problem)[:40])\n",
    "    report_counts(total_counts, 'TOTAL\\n')"
   ]
  },
  {
   "cell_type": "code",
   "execution_count": 346,
   "metadata": {
    "scrolled": true
   },
   "outputs": [
    {
     "name": "stdout",
     "output_type": "stream",
     "text": [
      "breadth_first_bfs:\n",
      "--------------------------------------\n",
      "Initial State:(1, 4, 2, 0, 7, 5, 3, 6, 8)\n",
      "Explored Nodes:105408\n",
      "Actions:24\n",
      "Cost:23\n",
      "Final State:(1, 2, 3, 4, 5, 6, 7, 8, 0)\n",
      "  285,089 nodes |  105,408 goal |   23 cost | 105,430 actions | 3.1020 seconds | EightPuzzle((1, 4, 2, 0, 7, 5, 3, 6, 8),\n",
      "--------------------------------------\n",
      "Initial State:(0, 1, 2, 3, 4, 5, 6, 7, 8)\n",
      "Explored Nodes:80042\n",
      "Actions:23\n",
      "Cost:22\n",
      "Final State:(1, 2, 3, 4, 5, 6, 7, 8, 0)\n",
      "  217,148 nodes |   80,042 goal |   22 cost |  80,063 actions | 2.2285 seconds | EightPuzzle((0, 1, 2, 3, 4, 5, 6, 7, 8),\n",
      "--------------------------------------\n",
      "Initial State:(4, 0, 2, 5, 1, 3, 7, 8, 6)\n",
      "Explored Nodes:139\n",
      "Actions:8\n",
      "Cost:7\n",
      "Final State:(1, 2, 3, 4, 5, 6, 7, 8, 0)\n",
      "      378 nodes |      139 goal |    7 cost |     145 actions | 0.0040 seconds | EightPuzzle((4, 0, 2, 5, 1, 3, 7, 8, 6),\n",
      "--------------------------------------\n",
      "Initial State:(7, 2, 4, 5, 0, 6, 8, 3, 1)\n",
      "Explored Nodes:55425\n",
      "Actions:21\n",
      "Cost:20\n",
      "Final State:(1, 2, 3, 4, 5, 6, 7, 8, 0)\n",
      "  149,148 nodes |   55,425 goal |   20 cost |  55,444 actions | 1.5267 seconds | EightPuzzle((7, 2, 4, 5, 0, 6, 8, 3, 1),\n",
      "--------------------------------------\n",
      "Initial State:(8, 6, 7, 2, 5, 4, 3, 0, 1)\n",
      "Explored Nodes:181439\n",
      "Actions:32\n",
      "Cost:31\n",
      "Final State:(1, 2, 3, 4, 5, 6, 7, 8, 0)\n",
      "  483,836 nodes |  181,439 goal |   31 cost | 181,469 actions | 5.0265 seconds | EightPuzzle((8, 6, 7, 2, 5, 4, 3, 0, 1),\n"
     ]
    }
   ],
   "source": [
    "report ([breadth_first_bfs],problems)"
   ]
  },
  {
   "cell_type": "code",
   "execution_count": null,
   "metadata": {},
   "outputs": [],
   "source": []
  },
  {
   "cell_type": "code",
   "execution_count": null,
   "metadata": {},
   "outputs": [],
   "source": []
  }
 ],
 "metadata": {
  "kernelspec": {
   "display_name": "Python 3",
   "language": "python",
   "name": "python3"
  },
  "language_info": {
   "codemirror_mode": {
    "name": "ipython",
    "version": 3
   },
   "file_extension": ".py",
   "mimetype": "text/x-python",
   "name": "python",
   "nbconvert_exporter": "python",
   "pygments_lexer": "ipython3",
   "version": "3.8.3"
  }
 },
 "nbformat": 4,
 "nbformat_minor": 4
}
