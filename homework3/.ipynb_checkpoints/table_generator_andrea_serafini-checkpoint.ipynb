{
 "cells": [
  {
   "cell_type": "markdown",
   "id": "c0efd38f",
   "metadata": {},
   "source": [
    "# Transaction Function P\n",
    "This part of the code generate a table with all the transactions. "
   ]
  },
  {
   "cell_type": "code",
   "execution_count": 3,
   "id": "e42bd8e2",
   "metadata": {},
   "outputs": [],
   "source": [
    "import numpy as np\n",
    "import pandas as pd"
   ]
  },
  {
   "cell_type": "code",
   "execution_count": 10,
   "id": "52846571",
   "metadata": {},
   "outputs": [],
   "source": [
    "class function_p_generator:\n",
    "    \n",
    "    def __init__(self,\n",
    "                 rows=4,\n",
    "                 cols=9,\n",
    "                 walls = [\n",
    "                    ((0,0),(1,0)),((1,0),(0,0)),\n",
    "                    ((0,1),(1,1)),((1,1),(0,1)),\n",
    "                    ((0,2),(1,2)),((1,2),(0,2)),\n",
    "                    ((0,3),(0,4)),((0,4),(0,3)),\n",
    "                    ((0,4),(0,5)),((0,5),(0,4)),\n",
    "                    ((0,7),(1,7)),((1,7),(0,7)),\n",
    "                    ((1,1),(2,1)),((2,1),(1,1)),\n",
    "                    ((1,2),(2,2)),((2,2),(1,2)),\n",
    "                    ((1,4),(2,4)),((2,4),(1,4)),\n",
    "                    ((1,6),(1,7)),((1,7),(1,6)),\n",
    "                    ((2,0),(2,1)),((2,1),(2,0)),\n",
    "                    ((2,3),(2,4)),((2,4),(2,3)),\n",
    "                    ((2,4),(2,5)),((2,5),(2,4)),\n",
    "                    ((2,6),(2,7)),((2,7),(2,6)),\n",
    "                    ((2,7),(3,7)),((3,7),(2,7)),\n",
    "                    ((2,8),(3,8)),((3,8),(2,8)),\n",
    "                    ((3,3),(3,4)),((3,4),(3,3)),\n",
    "                    ((3,4),(3,5)),((3,5),(3,4)),\n",
    "                    ((2,0),(3,0)),((3,0),(2,0)),\n",
    "                    ((0,4),(1,4)),((1,4),(0,4))],\n",
    "                beaters = [(2,0), (2,7)],\n",
    "                pans = [(3,0)],\n",
    "                ovens = [(3,7)],\n",
    "                has_beater = [False,True],\n",
    "                recipes = ['scrumbled','pudding'],\n",
    "                actions = ['u','d','l','r']):\n",
    "        \n",
    "        self.rows = rows\n",
    "        self.cols = cols         \n",
    "        self.walls = walls\n",
    "        self.beaters = beaters\n",
    "        self.pans = pans\n",
    "        self.ovens = ovens\n",
    "        self.has_beater = has_beater\n",
    "        self.recipes = recipes\n",
    "        self.actions = actions\n",
    "        \n",
    "    def get_all_states(self):\n",
    "        states = []\n",
    "        for re in self.recipes:\n",
    "            for r in range(self.rows):\n",
    "                for c in range(self.cols):\n",
    "                    for b in self.beaters:\n",
    "                        states.append((re,r,c,b))\n",
    "        return states"
   ]
  },
  {
   "cell_type": "code",
   "execution_count": 11,
   "id": "bb8edefa",
   "metadata": {},
   "outputs": [],
   "source": [
    "gen = function_p_generator()\n",
    "states = gen.get_all_states()  "
   ]
  },
  {
   "cell_type": "code",
   "execution_count": null,
   "id": "b5aef609",
   "metadata": {},
   "outputs": [],
   "source": []
  },
  {
   "cell_type": "code",
   "execution_count": null,
   "id": "c6097cfb",
   "metadata": {},
   "outputs": [],
   "source": []
  }
 ],
 "metadata": {
  "kernelspec": {
   "display_name": "Python 3 (ipykernel)",
   "language": "python",
   "name": "python3"
  },
  "language_info": {
   "codemirror_mode": {
    "name": "ipython",
    "version": 3
   },
   "file_extension": ".py",
   "mimetype": "text/x-python",
   "name": "python",
   "nbconvert_exporter": "python",
   "pygments_lexer": "ipython3",
   "version": "3.8.13"
  }
 },
 "nbformat": 4,
 "nbformat_minor": 5
}
