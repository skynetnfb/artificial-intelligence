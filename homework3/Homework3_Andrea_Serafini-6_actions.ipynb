{
 "cells": [
  {
   "cell_type": "code",
   "execution_count": 1,
   "id": "4f494038",
   "metadata": {},
   "outputs": [],
   "source": [
    "import numpy as np\n",
    "import argparse\n",
    "import random\n",
    "import time\n",
    "from math import sqrt,ceil"
   ]
  },
  {
   "cell_type": "markdown",
   "id": "09ef9bf8",
   "metadata": {},
   "source": [
    "# Homework 3 Andrea Serafini 277048\n",
    "\n",
    "# The Cooking Chef Problem"
   ]
  },
  {
   "cell_type": "markdown",
   "id": "99b5a74e",
   "metadata": {},
   "source": [
    "The following class define the environment of the cooking chef problem, in this world there are the following elements:\n",
    "-  representation of the state define the location of the agent and if it has an eggbeater in hand with a boolean variable ass follow: (row, col, has_beater)\n",
    "-  walls: from (row,col) to : (row, col)\n",
    "-  beater location (row, col)\n",
    "-  ends (row, col)\n",
    "\n",
    "For each reached cell (identified by row and col indexes) it is assigned a reward value, to avoid the agent to waste time or make error (e.g. try to pick a beater if he already have one in hand),  different rewards and penalty have been assigned as follow:\n",
    "\n",
    "- step from a cell to another cell (penalty waste of time): -1\n",
    "- cook bonus (positive reward): 30\n",
    "- try cook in wrong position position (penalty): -3\n",
    "- try cook without beater (penalty):-5\n",
    "- pick beater (positive reward): 5\n",
    "- try pick beater in wrong position position (penalty): -3\n",
    "- try pick beater with a beater already in hand (penalty): -5\n",
    "- hit wall:-5\n",
    "\n",
    "The agent can perform 6 actions:\n",
    "\n",
    "- MOVE LEFT = \"l\"\n",
    "- MOVE RIGHT = \"r\"\n",
    "- MOVE UP = \"u\"\n",
    "- MOVE DOWN = \"d\"\n",
    "- PICK BEATER = \"p\"\n",
    "- COOK = \"c\"\n"
   ]
  },
  {
   "attachments": {
    "image.png": {
     "image/png": "[encoded data removed]"
    }
   },
   "cell_type": "markdown",
   "id": "9e6e94f2",
   "metadata": {},
   "source": [
    "Representation of the row and columns of the environments\n",
    "I decided to invert the index of the board with the purpose to facilitate the implementation.\n",
    "\n",
    "![image.png](attachment:image.png)"
   ]
  },
  {
   "cell_type": "markdown",
   "id": "5d5719f6",
   "metadata": {},
   "source": [
    "# Class world\n",
    "This class define the environment representation in wich the agent 'play', it also contains the functions that define the change of a state related to te action."
   ]
  },
  {
   "cell_type": "code",
   "execution_count": 2,
   "id": "41f7641c",
   "metadata": {
    "collapsed": true
   },
   "outputs": [],
   "source": [
    "class world:\n",
    "    def __init__ (self, row, col, walls, beater, ends):\n",
    "        self.row = row\n",
    "        self.col = col\n",
    "        self.walls = walls\n",
    "        self.beater = beater\n",
    "        self.ends = ends\n",
    "        \n",
    "\n",
    "        \"\"\" rewards specification \"\"\"\n",
    "        \n",
    "        self.reward = {\n",
    "            \"step\": -1,\n",
    "            \"cook_bonus\": 30,\n",
    "            \"cook_penalty_position\": -3,\n",
    "            \"cook_penalty_beater\":-5,\n",
    "            \"pick_bonus\": 5,\n",
    "            \"pick_penalty_position\": -3,\n",
    "            \"already_picked_penalty\": -5,\n",
    "            \"wall\":-5\n",
    "        }\n",
    "\n",
    "    \"\"\" return value from the rewards dictionary \"\"\"\n",
    "    def get_reward (self, r_name):\n",
    "        return self.reward[r_name]\n",
    "        \n",
    "    \"\"\" Check if end state has been reached \"\"\"\n",
    "    def reached_end (self, state,action):\n",
    "        for e in self.ends:\n",
    "            if state == e+(True,)and action == 'c':\n",
    "                return True   \n",
    "            else:\n",
    "                return False\n",
    "            \n",
    "            \n",
    "    \"\"\" next state: this function take as input the actual state and an action and return the resulting state \"\"\"\n",
    "    \n",
    "    def next_state (self, actual_state, action):\n",
    "        (row, col, has_beater) = actual_state\n",
    "        \n",
    "    # MOVE LEFT\n",
    "        if action == \"l\":\n",
    "            #print(\"LEFT\")\n",
    "            col = col-1\n",
    "            if col < 0 or ((row,col+1),(row,col)) in self.walls:\n",
    "                return actual_state\n",
    "            elif has_beater :\n",
    "                new_state = (row, col, True)\n",
    "                return new_state\n",
    "            else: \n",
    "                new_state = (row, col, False)\n",
    "                return new_state\n",
    "            \n",
    "    # MOVE RIGHT\n",
    "        if action == \"r\":\n",
    "            #print(\"RIGHT\")\n",
    "            col += 1\n",
    "            if col > self.col-1 or ((row,col-1),(row,col)) in self.walls :\n",
    "                return actual_state\n",
    "            elif has_beater :\n",
    "                new_state = (row, col, True)\n",
    "                return new_state\n",
    "            else: \n",
    "                new_state = (row, col, False)\n",
    "                return new_state\n",
    "            \n",
    "    # MOVE UP\n",
    "        if action == \"u\":\n",
    "            #print(\"UP\")\n",
    "            row += 1\n",
    "            if row > self.row-1 or ((row-1,col),(row,col)) in self.walls :\n",
    "                return actual_state\n",
    "            elif has_beater :\n",
    "                new_state = (row, col, True)\n",
    "                return new_state\n",
    "            else: \n",
    "                new_state = (row, col, False)\n",
    "                return new_state\n",
    "            \n",
    "    # MOVE DOWN\n",
    "        if action == \"d\":\n",
    "           # print(\"DOWN\")\n",
    "            row -= 1\n",
    "            if row < 0 or ((row+1,col),(row,col)) in self.walls :\n",
    "                return actual_state\n",
    "            elif has_beater :\n",
    "                new_state = (row, col, True)\n",
    "                return new_state\n",
    "            else: \n",
    "                new_state = (row, col, False)\n",
    "                return new_state\n",
    "      # PICK  \n",
    "        if action == \"p\":\n",
    "            #print(\"PICK\"+str(actual_state))\n",
    "            if not has_beater and (row, col) in self.beater:\n",
    "                new_state = (row, col, True)\n",
    "                return new_state\n",
    "            else:\n",
    "                #print(\"PICK WRONG\")\n",
    "                return actual_state\n",
    "      #COOK  \n",
    "        if action == \"c\":\n",
    "            #print(\"Cook\")\n",
    "            if has_beater and (row, col) in self.ends:\n",
    "                new_state = (row, col, True)\n",
    "                return new_state\n",
    "            else:\n",
    "                #print(\"COOK WRONG\")\n",
    "                return actual_state            \n",
    "            \n",
    "            \n",
    "            "
   ]
  },
  {
   "cell_type": "markdown",
   "id": "a94e3605",
   "metadata": {},
   "source": [
    "# Class Agent\n",
    "\n",
    "This class define the agent behavior, in the specific it define the representation of an agent, the functions performed by the agents and some utility functions for the policy prints.\n"
   ]
  },
  {
   "cell_type": "code",
   "execution_count": 3,
   "id": "20701710",
   "metadata": {},
   "outputs": [],
   "source": [
    "class agent:\n",
    "        def __init__(self, start, actions, world, discount, learning_rate, epsilon, lamb, adaptive_epsilon):\n",
    "            self.actions = actions\n",
    "            self.world = world\n",
    "            self.qtable = {}\n",
    "            for i in range(world.row):\n",
    "                for j in range(world.col):\n",
    "                    for k in [False, True]:\n",
    "                        for a in self.actions:\n",
    "                            self.qtable[(i, j, k, a)] = 0\n",
    "            self.start = start\n",
    "            self.state = start\n",
    "            self.discount = discount\n",
    "            self.learning_rate = learning_rate\n",
    "            self.epsilon = epsilon\n",
    "            self.lamb = lamb\n",
    "            self.adaptive_epsilon = adaptive_epsilon\n",
    "        \n",
    "        \"\"\" select an action in relation to the choosen epsilon value: Random Action if random < epsilon else Max Action \"\"\"\n",
    "        def select_action(self):\n",
    "            if (np.random.uniform(0, 1) < self.epsilon):\n",
    "                action = np.random.choice(self.actions)\n",
    "            else:\n",
    "                action = self.max_action(self.state)\n",
    "            return action\n",
    "\n",
    "        def max_action(self, state):\n",
    "            action = np.random.choice(self.actions)\n",
    "            maxq = self.qtable[state+(action,)]\n",
    "            for a in self.actions:\n",
    "                q = self.qtable[state+(a,)]\n",
    "                if q > maxq:\n",
    "                    maxq = q\n",
    "                    action = a\n",
    "            return action\n",
    "    \n",
    "    \n",
    "        \"\"\"perform an action, get the rewards and set the new Q table value\"\"\"\n",
    "        \n",
    "        def perform_action(self, action,world):\n",
    "            next_state = self.world.next_state(self.state, action)\n",
    "            next_action = self.max_action(next_state)\n",
    "            (row, col)= self.state[0],self.state[1]\n",
    "            #print(str((row, col)))\n",
    "            if self.state[2]==True and action == \"p\":\n",
    "                #print ('already in hand')\n",
    "                # penalty if try to pick with a beater already in hand\n",
    "                delta = - 5 +(self.world.get_reward(\"already_picked_penalty\") +self.discount *self.qtable[next_state+(next_action,)]) - self.qtable[self.state+(action,)]\n",
    "            elif self.state[2]==False and action == \"p\" and (row, col) in world.beater:\n",
    "                #print ('bonus beater')\n",
    "                # bonus if pick beater\n",
    "                delta =  ( self.world.get_reward(\"pick_bonus\") + self.discount *self.qtable[next_state+(next_action,)]) - self.qtable[self.state+(action,)]\n",
    "            elif self.state[2]==False and action == \"p\" not in world.beater:\n",
    "                #print ('penalty beater')\n",
    "                # penalty if pick beater\n",
    "                delta = ( self.world.get_reward(\"pick_penalty_position\") + self.discount *self.qtable[next_state+(next_action,)]) - self.qtable[self.state+(action,)]\n",
    "            elif self.state[2]==False and action == \"c\":\n",
    "                #print ('penalty cook without beater')\n",
    "                # penalty if try to cook without a beater already in hand\n",
    "                delta = (self.world.get_reward(\"cook_penalty_beater\") + self.discount *self.qtable[next_state+(next_action,)]) - self.qtable[self.state+(action,)]\n",
    "            elif self.state[2]==True and action == \"c\" and (row, col) not in world.ends:\n",
    "                #print ('penalty cook not in pans')\n",
    "                # penalty if try to cook not in the pans\n",
    "                delta = (self.world.get_reward(\"cook_penalty_position\") + self.discount *self.qtable[next_state+(next_action,)]) - self.qtable[self.state+(action,)]\n",
    "            elif self.state[2]==True and action == \"c\" and (row, col) in world.ends:\n",
    "                # bonus cook\n",
    "                #print('bonus cook')\n",
    "                delta =( self.world.get_reward(\"cook_bonus\") + self.discount *self.qtable[next_state+(next_action,)]) - self.qtable[self.state+(action,)]\n",
    "            elif (self.state == next_state):\n",
    "                #print ('different states')\n",
    "                delta = (self.world.get_reward(\"wall\") + self.discount *self.qtable[next_state+(next_action,)]) - self.qtable[self.state+(action,)]\n",
    "            elif (self.state != next_state):\n",
    "                delta = ( self.world.get_reward(\"step\") + self.discount *self.qtable[next_state+(next_action,)]) - self.qtable[self.state+(action,)]\n",
    "            # UPDATE QTABLE CELL\n",
    "            self.qtable[(self.state[0], self.state[1], self.state[2], action)] += self.learning_rate * delta\n",
    "            self.state = next_state\n",
    "        \n",
    "\n",
    "            \n",
    "            \n",
    "        def update_epsilon(self,episode):\n",
    "                self.epsilon = 1/episode\n",
    "\n",
    "        def play(self, episodes,world):\n",
    "            t0 = time.time();\n",
    "            current_ep = 1\n",
    "            action =''\n",
    "            while current_ep <= episodes:\n",
    "                \n",
    "\n",
    "                if self.adaptive_epsilon:\n",
    "                    self.update_epsilon(current_ep)\n",
    "                if self.world.reached_end(self.state,action):\n",
    "                    #self.perform_action(action,world)\n",
    "                    self.state = self.getRandomStart()\n",
    "                    #print(\"Episode\",current_ep,\"Finished...\",sep=\" \")\n",
    "                    current_ep += 1\n",
    "                else:\n",
    "                    action = self.select_action()\n",
    "                    #print(self.state,action)\n",
    "                    self.perform_action(action,world)\n",
    "            t1 = time.time() - t0\n",
    "            print ('episodes:'+str(episodes)+'in '+str(t1)+' seconds')\n",
    "\n",
    "        \"\"\" random start avoiding the external environment cells \"\"\"\n",
    "        def getRandomStart(self):\n",
    "            row = random.choice(range(self.world.row))\n",
    "            col = random.choice(range(self.world.col))\n",
    "            if (row, col) in [(0,4), (2, 4), (3,4)]:\n",
    "                i = random.choice([-1, 1])\n",
    "                return (row, col + i, False)\n",
    "            if (row, col) in beater:\n",
    "                return (row, col, True)\n",
    "            else:\n",
    "                return (row, col, False)\n",
    "\n",
    "\n",
    "        def get_policy_sequence(self,start):\n",
    "            state = start\n",
    "            a = []\n",
    "            check_finish=False\n",
    "            while(not(check_finish)):\n",
    "                action = self.max_action(state)\n",
    "                check_finish=self.world.reached_end(state,action)\n",
    "                a.append(action)\n",
    "                state = self.world.next_state(state, action)\n",
    "            return a\n",
    "\n",
    "        def print_Q_table(self):\n",
    "            print(self.qtable)\n",
    "\n",
    "        def print_policy(self, start):\n",
    "            print(\"Policy from start\")\n",
    "            state = start\n",
    "            check_finish=False\n",
    "            while(not(check_finish)):\n",
    "                #print(check_finish)\n",
    "                action = self.max_action(state)\n",
    "                #print('MAX_ACTION'+str(action))\n",
    "                check_finish=self.world.reached_end(state,action)\n",
    "                #print(action, end=\" -> \")\n",
    "                print(state,action, end=\" -> \")\n",
    "                #print(\"print policy state\" +str(state))\n",
    "                #print(\"print policy action\" +str(action))\n",
    "                state = self.world.next_state(state, action)\n",
    "                print(state)\n",
    "            print(\"Finished\")\n",
    "\n",
    "        def print_policy_grid(self,with_beater):\n",
    "            print(\"Optimal Policy\")\n",
    "            for r in range(self.world.row):\n",
    "                for c in range(self.world.col):\n",
    "                    for has_beater in [False, True]:\n",
    "                        if with_beater == has_beater:\n",
    "                            if (c == 4 and r != 1):\n",
    "                                state = (r, c, has_beater)\n",
    "                                print(state, \"-\",end =\" | \")\n",
    "                            else:\n",
    "                                state = (r, c, has_beater)\n",
    "                                action = self.max_action(state)\n",
    "                                print(state, action,end =\" | \")\n",
    "\n",
    "        \n",
    "        def get_policy_in_grid(self,with_beater):\n",
    "            sequence = \"\"\n",
    "            print(\"OptimalPolicy in the grid with beater =\"+ str(with_beater))\n",
    "            for r in range(self.world.row):\n",
    "                for c in range(self.world.col):\n",
    "                    for hb in [False, True]:\n",
    "                        state = (r, c, hb)\n",
    "                        action = self.max_action(state)\n",
    "                        if with_beater == hb:\n",
    "                            if (c == 4 and r != 1): \n",
    "                                sequence = sequence+\"-\"    \n",
    "                            else:sequence = sequence+action \n",
    "            cells=self.world.row*self.world.col\n",
    "            reverse = \"\"\n",
    "            temp=\"\"\n",
    "            for r in range(self.world.row):\n",
    "                temp=sequence[cells-self.world.col:cells]\n",
    "                reverse = reverse + temp\n",
    "                cells = cells - self.world.col\n",
    "            return reverse\n",
    "\n",
    "        def convert_position(s):\n",
    "            try:\n",
    "                row,col = map(int,s.split(\",\"))\n",
    "                return (row,col)\n",
    "            except:\n",
    "                raise argparse.ArgumentTypeError(\"arguments must be row,col\")        "
   ]
  },
  {
   "cell_type": "markdown",
   "id": "03f199c2",
   "metadata": {},
   "source": [
    "# Instance\n",
    "In the next cell has been instantiated the World and The Agent, in this cells there is the possibility to change different parameter for the agents and create different worlds as follows:\n",
    "\n",
    "#### worlds example\n",
    "\n",
    "- walls = [((0,0),(1,0))] (define an obstacle from location (0,0) to location (1,0))\n",
    "- start = (random.randint(0, 3),random.randint(0, 8), False)\n",
    "- rows = 4 (rows of the environment)\n",
    "- cols = 9 (columns of the environment)\n",
    "- beater = [(2,0),(2,7)] (location of the eggbeaters)\n",
    "- ends = [(3,0)] (location of the fryer pan)\n",
    "\n",
    "#### agent example\n",
    "\n",
    "- actions = [\"u\", \"d\", \"l\", \"r\", \"p\", \"c\"]\n",
    "- discount = 0.8 (discount factor)\n",
    "- learning_rate = 0.5\n",
    "- epsilon = 0.3 (allow to agent to choose a random action with 30% of cases without this the agent will always choos the action from the q-table with the best value)\n",
    "- number_of_episodes = 10000\n",
    "- lamb = 0.5 (lambda)\n",
    "- adaptive_epsilon = False/True (epsilon Decay during episodes)"
   ]
  },
  {
   "cell_type": "code",
   "execution_count": 4,
   "id": "aeb036e4",
   "metadata": {},
   "outputs": [],
   "source": [
    "walls = [\n",
    "        ((0,0),(1,0)),((1,0),(0,0)),\n",
    "        ((0,1),(1,1)),((1,1),(0,1)),\n",
    "        ((0,2),(1,2)),((1,2),(0,2)),\n",
    "        ((0,3),(0,4)),((0,4),(0,3)),\n",
    "        ((0,4),(0,5)),((0,5),(0,4)),\n",
    "        ((0,7),(1,7)),((1,7),(0,7)),\n",
    "        ((1,1),(2,1)),((2,1),(1,1)),\n",
    "        ((1,2),(2,2)),((2,2),(1,2)),\n",
    "        ((1,4),(2,4)),((2,4),(1,4)),\n",
    "        ((1,6),(1,7)),((1,7),(1,6)),\n",
    "        ((2,0),(2,1)),((2,1),(2,0)),\n",
    "        ((2,3),(2,4)),((2,4),(2,3)),\n",
    "        ((2,4),(2,5)),((2,5),(2,4)),\n",
    "        ((2,6),(2,7)),((2,7),(2,6)),\n",
    "        ((2,7),(3,7)),((3,7),(2,7)),\n",
    "        ((2,8),(3,8)),((3,8),(2,8)),\n",
    "        ((3,3),(3,4)),((3,4),(3,3)),\n",
    "        ((3,4),(3,5)),((3,5),(3,4)),\n",
    "        ((2,0),(3,0)),((3,0),(2,0)),\n",
    "        ((0,4),(1,4)),((1,4),(0,4))]\n",
    "    \n",
    "\n",
    "    \n",
    "start = (random.randint(0, 3),random.randint(0, 8), False)\n",
    "rows = 4\n",
    "cols = 9\n",
    "beater = [(2,0), (2,7)]\n",
    "ends = [(3,0)]\n",
    "\n",
    "w = world(rows, cols, walls, beater, ends)\n",
    "\n",
    "actions = [\"u\", \"d\", \"l\", \"r\", \"p\", \"c\"]\n",
    "discount = 0.8\n",
    "learning_rate = 0.5\n",
    "epsilon = 0.3\n",
    "number_of_episodes = 10000\n",
    "lamb = 0.5\n",
    "adaptive_epsilon = False\n",
    "\n",
    "a = agent(start, actions, w, discount, learning_rate, epsilon, lamb, adaptive_epsilon)\n",
    "\n",
    "\n"
   ]
  },
  {
   "cell_type": "markdown",
   "id": "e898dedb",
   "metadata": {},
   "source": [
    "# Let's Play a Game!\n",
    "In order to reach an optimal policy 10.000 episode have been played, in the following cells are showed the following results:\n"
   ]
  },
  {
   "cell_type": "markdown",
   "id": "0ea59723",
   "metadata": {},
   "source": [
    "#### esapsed time for play the episodes"
   ]
  },
  {
   "cell_type": "code",
   "execution_count": 5,
   "id": "4170542f",
   "metadata": {},
   "outputs": [
    {
     "name": "stdout",
     "output_type": "stream",
     "text": [
      "episodes:10000in 17.01344633102417 seconds\n"
     ]
    }
   ],
   "source": [
    "a.play(number_of_episodes,w)"
   ]
  },
  {
   "cell_type": "code",
   "execution_count": 3,
   "id": "c9e2084c",
   "metadata": {},
   "outputs": [],
   "source": [
    "#### Q Tablse values"
   ]
  },
  {
   "cell_type": "code",
   "execution_count": 6,
   "id": "f950551c",
   "metadata": {},
   "outputs": [
    {
     "name": "stdout",
     "output_type": "stream",
     "text": [
      "{(0, 0, False, 'u'): -5.9609079337226785, (0, 0, False, 'd'): -5.960908186862158, (0, 0, False, 'l'): -5.960908218583131, (0, 0, False, 'r'): -1.2011352710302963, (0, 0, False, 'p'): -3.960924785705088, (0, 0, False, 'c'): -5.9609093584922554, (0, 0, True, 'u'): -4.75, (0, 0, True, 'd'): -5.62032344, (0, 0, True, 'l'): -6.12032344, (0, 0, True, 'r'): -3.5345533505000004, (0, 0, True, 'p'): -11.16118844, (0, 0, True, 'c'): -4.777823440000001, (0, 1, False, 'u'): -5.201135271027013, (0, 1, False, 'd'): -5.201135271030309, (0, 1, False, 'l'): -1.9609082168242402, (0, 1, False, 'r'): -0.2514190887878702, (0, 1, False, 'p'): -3.20113527103104, (0, 1, False, 'c'): -5.201135271031447, (0, 1, True, 'u'): -6.626700525, (0, 1, True, 'd'): -6.905259775, (0, 1, True, 'l'): -3.4812428061500005, (0, 1, True, 'r'): 20.220460781295657, (0, 1, True, 'p'): -1.6076429350521293, (0, 1, True, 'c'): -4.065, (0, 2, False, 'u'): -4.25141908878787, (0, 2, False, 'd'): -4.25141908878787, (0, 2, False, 'l'): -1.2011352710302963, (0, 2, False, 'r'): 0.9357261390151621, (0, 2, False, 'p'): -2.2514190887878707, (0, 2, False, 'c'): -4.25141908878787, (0, 2, True, 'u'): 15.616357698347375, (0, 2, True, 'd'): 16.30538199687715, (0, 2, True, 'l'): 12.090969908710566, (0, 2, True, 'r'): 27.50585599999996, (0, 2, True, 'p'): 10.941891831609963, (0, 2, True, 'c'): 16.158528443442357, (0, 3, False, 'u'): 2.4196576737689526, (0, 3, False, 'd'): -3.064273860984838, (0, 3, False, 'l'): -0.2514190887878702, (0, 3, False, 'r'): -3.064273860984838, (0, 3, False, 'p'): -1.0642738609848381, (0, 3, False, 'c'): -3.064273860984838, (0, 3, True, 'u'): 35.63231999999995, (0, 3, True, 'd'): 23.50585599999996, (0, 3, True, 'l'): 21.004684799999705, (0, 3, True, 'r'): 23.50585599999996, (0, 3, True, 'p'): 18.505855999999753, (0, 3, True, 'c'): 25.50585599999991, (0, 4, False, 'u'): 0, (0, 4, False, 'd'): 0, (0, 4, False, 'l'): 0, (0, 4, False, 'r'): 0, (0, 4, False, 'p'): 0, (0, 4, False, 'c'): 0, (0, 4, True, 'u'): 0, (0, 4, True, 'd'): 0, (0, 4, True, 'l'): 0, (0, 4, True, 'r'): 0, (0, 4, True, 'p'): 0, (0, 4, True, 'c'): 0, (0, 5, False, 'u'): -0.2514190887878702, (0, 5, False, 'd'): -5.201135271030296, (0, 5, False, 'l'): -5.201135271030296, (0, 5, False, 'r'): -1.9609082168242375, (0, 5, False, 'p'): -3.2011352710302967, (0, 5, False, 'c'): -5.201135271030296, (0, 5, True, 'u'): 21.004684799999964, (0, 5, True, 'd'): 11.803705200191473, (0, 5, True, 'l'): 11.803730411741018, (0, 5, True, 'r'): 11.642998043886621, (0, 5, True, 'p'): 6.803746688292094, (0, 5, True, 'c'): 13.803747555609633, (0, 6, False, 'u'): -1.201143439657653, (0, 6, False, 'd'): -5.960791692770863, (0, 6, False, 'l'): -1.2011352710302963, (0, 6, False, 'r'): -1.2469160761754865, (0, 6, False, 'p'): -3.960892927667069, (0, 6, False, 'c'): -5.960908443503283, (0, 6, True, 'u'): 15.803747839999971, (0, 6, True, 'd'): 7.6429982719999785, (0, 6, True, 'l'): 15.803747839999971, (0, 6, True, 'r'): 8.31439861759998, (0, 6, True, 'p'): 2.6429982719999785, (0, 6, True, 'c'): 9.642998271999978, (0, 7, False, 'u'): -5.246892013873959, (0, 7, False, 'd'): -5.246891672960723, (0, 7, False, 'l'): -1.960909018845269, (0, 7, False, 'r'): -0.3086145848242374, (0, 7, False, 'p'): -3.246894190857516, (0, 7, False, 'c'): -5.246891658185168, (0, 7, True, 'u'): 4.314398617599982, (0, 7, True, 'd'): 4.314398617599982, (0, 7, True, 'l'): 11.642998271999978, (0, 7, True, 'r'): 5.6515188940799845, (0, 7, True, 'p'): -0.6856013824000176, (0, 7, True, 'c'): 6.314398617599982, (0, 8, False, 'u'): 0.8642317689697032, (0, 8, False, 'd'): -4.308614584869632, (0, 8, False, 'l'): -1.2468916678594186, (0, 8, False, 'r'): -4.308614585132674, (0, 8, False, 'p'): -2.30861458482829, (0, 8, False, 'c'): -4.308614584825998, (0, 8, True, 'u'): 3.5212151152639874, (0, 8, True, 'd'): 1.6515188940799845, (0, 8, True, 'l'): 8.31439861759998, (0, 8, True, 'r'): 1.6515188940799845, (0, 8, True, 'p'): -3.3484811059200155, (0, 8, True, 'c'): 3.6515188940799845, (1, 0, False, 'u'): 13.114398617599981, (1, 0, False, 'd'): 5.491518894079986, (1, 0, False, 'l'): 5.491518894079986, (1, 0, False, 'r'): 6.5932151152639875, (1, 0, False, 'p'): 7.491518894079986, (1, 0, False, 'c'): 5.491518894079986, (1, 0, True, 'u'): 11.642998271999978, (1, 0, True, 'd'): 11.803747839999971, (1, 0, True, 'l'): 11.803747839999971, (1, 0, True, 'r'): 21.004684799999964, (1, 0, True, 'p'): 6.803747839999971, (1, 0, True, 'c'): 13.803747839999971, (1, 1, False, 'u'): 2.5932151152639875, (1, 1, False, 'd'): 2.5932151152639875, (1, 1, False, 'l'): 9.491518894079984, (1, 1, False, 'r'): 4.274572092211191, (1, 1, False, 'p'): 4.5932151152639875, (1, 1, False, 'c'): 2.5932151152639875, (1, 1, True, 'u'): 17.004684799999964, (1, 1, True, 'd'): 17.004684799999964, (1, 1, True, 'l'): 15.803747839999971, (1, 1, True, 'r'): 27.50585599999996, (1, 1, True, 'p'): 12.004684799999968, (1, 1, True, 'c'): 19.004684799999964, (1, 2, False, 'u'): 0.2745720922111907, (1, 2, False, 'd'): 0.2745720922111907, (1, 2, False, 'l'): 6.5932151152639875, (1, 2, False, 'r'): 2.4196576737689526, (1, 2, False, 'p'): 2.2745720922111907, (1, 2, False, 'c'): 0.2745720922111907, (1, 2, True, 'u'): 23.50585599999996, (1, 2, True, 'd'): 23.50585599999996, (1, 2, True, 'l'): 21.004684799999964, (1, 2, True, 'r'): 35.63231999999995, (1, 2, True, 'p'): 18.50585599999996, (1, 2, True, 'c'): 25.50585599999996, (1, 3, False, 'u'): 0.9357261390151621, (1, 3, False, 'd'): 0.9357261390151621, (1, 3, False, 'l'): 4.274572092211191, (1, 3, False, 'r'): 0.9357261390151621, (1, 3, False, 'p'): 0.4196576737689526, (1, 3, False, 'c'): -1.5803423262310474, (1, 3, True, 'u'): 45.79039999999995, (1, 3, True, 'd'): 27.50585599999996, (1, 3, True, 'l'): 27.50585599999996, (1, 3, True, 'r'): 27.50585599999996, (1, 3, True, 'p'): 26.632319999999957, (1, 3, True, 'c'): 33.63231999999995, (1, 4, False, 'u'): -3.064273860984838, (1, 4, False, 'd'): -3.064273860984838, (1, 4, False, 'l'): 2.4196576737689526, (1, 4, False, 'r'): -0.2514190887878702, (1, 4, False, 'p'): -1.0642738609848381, (1, 4, False, 'c'): -3.064273860984838, (1, 4, True, 'u'): 23.50585599999996, (1, 4, True, 'd'): 23.50585599999996, (1, 4, True, 'l'): 35.63231999999995, (1, 4, True, 'r'): 21.004684799999964, (1, 4, True, 'p'): 18.50585599999996, (1, 4, True, 'c'): 25.50585599999996, (1, 5, False, 'u'): -1.2011352710302963, (1, 5, False, 'd'): -1.2011352710302963, (1, 5, False, 'l'): 0.9357261390151621, (1, 5, False, 'r'): -1.2011352710302963, (1, 5, False, 'p'): -2.2514190887878707, (1, 5, False, 'c'): -4.25141908878787, (1, 5, True, 'u'): 15.803747839999971, (1, 5, True, 'd'): 15.803747839999971, (1, 5, True, 'l'): 27.50585599999996, (1, 5, True, 'r'): 15.803747839999971, (1, 5, True, 'p'): 12.004684799999968, (1, 5, True, 'c'): 19.004684799999964, (1, 6, False, 'u'): -1.9609082171501937, (1, 6, False, 'd'): -1.9609082168254135, (1, 6, False, 'l'): -0.2514190887878702, (1, 6, False, 'r'): -5.201135271664803, (1, 6, False, 'p'): -3.2011352711455032, (1, 6, False, 'c'): -5.201135271062682, (1, 6, True, 'u'): 11.642998271999978, (1, 6, True, 'd'): 11.642998271999978, (1, 6, True, 'l'): 21.004684799999964, (1, 6, True, 'r'): 11.803747839999971, (1, 6, True, 'p'): 6.803747839999971, (1, 6, True, 'c'): 13.803747839999971, (1, 7, False, 'u'): 4.162862139015161, (1, 7, False, 'd'): -1.6697103011601526, (1, 7, False, 'l'): -1.6697102972835816, (1, 7, False, 'r'): 0.8642317610958756, (1, 7, False, 'p'): 0.3302894018415949, (1, 7, False, 'c'): -1.6697102895611389, (1, 7, True, 'u'): 0.45357767376893465, (1, 7, True, 'd'): -2.183027907788956, (1, 7, True, 'l'): -2.1830279077888113, (1, 7, True, 'r'): 3.5212151152639874, (1, 7, True, 'p'): -7.1830279077964025, (1, 7, True, 'c'): -0.18302790778893438, (1, 8, False, 'u'): 2.330289711212129, (1, 8, False, 'd'): -0.3086145848242374, (1, 8, False, 'l'): 2.330289711212129, (1, 8, False, 'r'): -3.135768231030297, (1, 8, False, 'p'): -1.1357682310302968, (1, 8, False, 'c'): -3.1357682310302977, (1, 8, True, 'u'): 1.81697209221119, (1, 8, True, 'd'): 5.6515188940799845, (1, 8, True, 'l'): 1.81697209221119, (1, 8, True, 'r'): -0.47878488473601255, (1, 8, True, 'p'): -5.478784884736013, (1, 8, True, 'c'): 1.5212151152639874, (2, 0, False, 'u'): 9.114398617599981, (2, 0, False, 'd'): 9.491518894079984, (2, 0, False, 'l'): 9.114398617599981, (2, 0, False, 'r'): 9.114398617599981, (2, 0, False, 'p'): 17.64299827199998, (2, 0, False, 'c'): 9.114398617599981, (2, 0, True, 'u'): 7.6429982719999785, (2, 0, True, 'd'): 15.803747839999971, (2, 0, True, 'l'): 7.6429982719999785, (2, 0, True, 'r'): 7.6429982719999785, (2, 0, True, 'p'): 2.6429982719999785, (2, 0, True, 'c'): 9.642998271999978, (2, 1, False, 'u'): -1.960908216824237, (2, 1, False, 'd'): -5.201135271030296, (2, 1, False, 'l'): -5.201135271030296, (2, 1, False, 'r'): -0.2514190887878702, (2, 1, False, 'p'): -3.2011352710302967, (2, 1, False, 'c'): -5.201135271030296, (2, 1, True, 'u'): 94.19999999999993, (2, 1, True, 'd'): 70.35999999999993, (2, 1, True, 'l'): 70.35999999999993, (2, 1, True, 'r'): 58.48799999999994, (2, 1, True, 'p'): 65.35999999999993, (2, 1, True, 'c'): 72.35999999999993, (2, 2, False, 'u'): -1.2011352710302963, (2, 2, False, 'd'): -4.25141908878787, (2, 2, False, 'l'): -1.2011352710302963, (2, 2, False, 'r'): 0.9357261390151621, (2, 2, False, 'p'): -2.2514190887878707, (2, 2, False, 'c'): -4.25141908878787, (2, 2, True, 'u'): 74.35999999999993, (2, 2, True, 'd'): 54.48799999999994, (2, 2, True, 'l'): 74.35999999999993, (2, 2, True, 'r'): 45.79039999999995, (2, 2, True, 'p'): 49.48799999999994, (2, 2, True, 'c'): 56.48799999999994, (2, 3, False, 'u'): -0.2514190887878702, (2, 3, False, 'd'): 2.4196576737689526, (2, 3, False, 'l'): -0.2514190887878702, (2, 3, False, 'r'): -3.064273860984838, (2, 3, False, 'p'): -1.0642738609848381, (2, 3, False, 'c'): -3.064273860984838, (2, 3, True, 'u'): 58.48799999999994, (2, 3, True, 'd'): 35.63231999999995, (2, 3, True, 'l'): 58.48799999999994, (2, 3, True, 'r'): 41.79039999999995, (2, 3, True, 'p'): 36.79039999999995, (2, 3, True, 'c'): 43.79039999999995, (2, 4, False, 'u'): 0, (2, 4, False, 'd'): 0, (2, 4, False, 'l'): 0, (2, 4, False, 'r'): 0, (2, 4, False, 'p'): 0, (2, 4, False, 'c'): 0, (2, 4, True, 'u'): 0, (2, 4, True, 'd'): 0, (2, 4, True, 'l'): 0, (2, 4, True, 'r'): 0, (2, 4, True, 'p'): 0, (2, 4, True, 'c'): 0, (2, 5, False, 'u'): -1.960908216824237, (2, 5, False, 'd'): -0.2514190887878702, (2, 5, False, 'l'): -5.201135271030296, (2, 5, False, 'r'): -1.960908216824237, (2, 5, False, 'p'): -3.2011352710302967, (2, 5, False, 'c'): -5.201135271030296, (2, 5, True, 'u'): 10.29255825272361, (2, 5, True, 'd'): 21.004684799999964, (2, 5, True, 'l'): 11.771416301249971, (2, 5, True, 'r'): 11.633748684800063, (2, 5, True, 'p'): 6.6575784915190255, (2, 5, True, 'c'): 13.665343558649646, (2, 6, False, 'u'): -2.56872658092888, (2, 6, False, 'd'): -1.2011352710303604, (2, 6, False, 'l'): -1.2011352710302963, (2, 6, False, 'r'): -5.960908216823264, (2, 6, False, 'p'): -3.96090821686757, (2, 6, False, 'c'): -5.960908216827423, (2, 6, True, 'u'): 4.039388544977627, (2, 6, True, 'd'): 15.803747839999971, (2, 6, True, 'l'): 15.79196787202611, (2, 6, True, 'r'): 7.4491158058354054, (2, 6, True, 'p'): 2.600130072409298, (2, 6, True, 'c'): 0.8153322968620147, (2, 7, False, 'u'): 0.16286213901516078, (2, 7, False, 'd'): 2.330289711212129, (2, 7, False, 'l'): 0.16286213901516078, (2, 7, False, 'r'): 2.330289711212129, (2, 7, False, 'p'): 6.453577673768951, (2, 7, False, 'c'): 0.16286213901516078, (2, 7, True, 'u'): -3.546422326231048, (2, 7, True, 'd'): 1.81697209221119, (2, 7, True, 'l'): -3.546422326231048, (2, 7, True, 'r'): 1.81697209221119, (2, 7, True, 'p'): -8.546422326231049, (2, 7, True, 'c'): -1.5464223262310481, (2, 8, False, 'u'): -1.6697102887878712, (2, 8, False, 'd'): 0.8642317689697032, (2, 8, False, 'l'): 4.162862139015161, (2, 8, False, 'r'): -1.6697102887878712, (2, 8, False, 'p'): 0.3302897112121288, (2, 8, False, 'c'): -1.6697102887878712, (2, 8, True, 'u'): -2.1830279077888104, (2, 8, True, 'd'): 3.5212151152639874, (2, 8, True, 'l'): 0.4535776737689521, (2, 8, True, 'r'): -2.1830279077888104, (2, 8, True, 'p'): -7.18302790778881, (2, 8, True, 'c'): -0.18302790778880995, (3, 0, False, 'u'): -6.568724641090368, (3, 0, False, 'd'): -6.568698821894243, (3, 0, False, 'l'): -6.568725497453036, (3, 0, False, 'r'): -1.960908216824237, (3, 0, False, 'p'): -4.568721352495854, (3, 0, False, 'c'): -6.568726542227534, (3, 0, True, 'u'): 114.99999999999991, (3, 0, True, 'd'): 114.99999999999991, (3, 0, True, 'l'): 114.99999999999991, (3, 0, True, 'r'): 94.19999999999993, (3, 0, True, 'p'): 109.99999999999991, (3, 0, True, 'c'): 149.9999999999999, (3, 1, False, 'u'): -5.960908217485542, (3, 1, False, 'd'): -1.2011352710302963, (3, 1, False, 'l'): -2.5687265735128415, (3, 1, False, 'r'): -1.2011352710381873, (3, 1, False, 'p'): -3.9609082168248193, (3, 1, False, 'c'): -5.9609082168242375, (3, 1, True, 'u'): 90.19999999999993, (3, 1, True, 'd'): 74.35999999999993, (3, 1, True, 'l'): 118.99999999999991, (3, 1, True, 'r'): 74.35999999999993, (3, 1, True, 'p'): 85.19999999999993, (3, 1, True, 'c'): 92.19999999999993, (3, 2, False, 'u'): -5.201135271244539, (3, 2, False, 'd'): -0.2514191334951501, (3, 2, False, 'l'): -1.9609082216673261, (3, 2, False, 'r'): -0.2514190887878702, (3, 2, False, 'p'): -3.2011352722229294, (3, 2, False, 'c'): -5.201135599166096, (3, 2, True, 'u'): 70.35999999999993, (3, 2, True, 'd'): 58.48799999999994, (3, 2, True, 'l'): 94.19999999999993, (3, 2, True, 'r'): 58.48799999999994, (3, 2, True, 'p'): 65.35999999999993, (3, 2, True, 'c'): 72.35999999999993, (3, 3, False, 'u'): -4.25141908878787, (3, 3, False, 'd'): 0.9357261390151621, (3, 3, False, 'l'): -1.2011352710302963, (3, 3, False, 'r'): -4.25141908878787, (3, 3, False, 'p'): -2.2514190887878707, (3, 3, False, 'c'): -4.25141908878787, (3, 3, True, 'u'): 54.48799999999994, (3, 3, True, 'd'): 45.79039999999995, (3, 3, True, 'l'): 74.35999999999993, (3, 3, True, 'r'): 54.48799999999994, (3, 3, True, 'p'): 49.48799999999994, (3, 3, True, 'c'): 56.48799999999994, (3, 4, False, 'u'): 0, (3, 4, False, 'd'): 0, (3, 4, False, 'l'): 0, (3, 4, False, 'r'): 0, (3, 4, False, 'p'): 0, (3, 4, False, 'c'): 0, (3, 4, True, 'u'): 0, (3, 4, True, 'd'): 0, (3, 4, True, 'l'): 0, (3, 4, True, 'r'): 0, (3, 4, True, 'p'): 0, (3, 4, True, 'c'): 0, (3, 5, False, 'u'): -5.960908216824237, (3, 5, False, 'd'): -1.2011352710302963, (3, 5, False, 'l'): -5.960908216824237, (3, 5, False, 'r'): -2.56872657345939, (3, 5, False, 'p'): -3.9609082168242375, (3, 5, False, 'c'): -5.960908216824237, (3, 5, True, 'u'): 0.3980292911692205, (3, 5, True, 'd'): 15.766041843230742, (3, 5, True, 'l'): -5.9912894, (3, 5, True, 'r'): -3.5389400957, (3, 5, True, 'p'): -8.731125424, (3, 5, True, 'c'): -4.829077345050001, (3, 6, False, 'u'): -6.56872657345939, (3, 6, False, 'd'): -1.960908216824237, (3, 6, False, 'l'): -1.960908216824237, (3, 6, False, 'r'): -3.054981258767512, (3, 6, False, 'p'): -4.56872657345939, (3, 6, False, 'c'): -6.56872657345939, (3, 6, True, 'u'): -0.7114367793106235, (3, 6, True, 'd'): 4.034225551178738, (3, 6, True, 'l'): 9.672505222993701, (3, 6, True, 'r'): -3.6425232447875002, (3, 6, True, 'p'): -12.24478162865, (3, 6, True, 'c'): -4.56940839, (3, 7, False, 'u'): -7.054981258230843, (3, 7, False, 'd'): -7.054981258767513, (3, 7, False, 'l'): -2.56872657345939, (3, 7, False, 'r'): -3.4439850070207836, (3, 7, False, 'p'): -5.054981258768247, (3, 7, False, 'c'): -7.054981258759305, (3, 7, True, 'u'): -5.4265766, (3, 7, True, 'd'): -5.9265766, (3, 7, True, 'l'): -0.309318814701403, (3, 7, True, 'r'): -3.6109542666750003, (3, 7, True, 'p'): -12.228737479985, (3, 7, True, 'c'): -4.907702627060001, (3, 8, False, 'u'): -7.4439847568162945, (3, 8, False, 'd'): -7.443985671214715, (3, 8, False, 'l'): -3.054981258767512, (3, 8, False, 'r'): -7.443983575886096, (3, 8, False, 'p'): -5.443699035388674, (3, 8, False, 'c'): -7.443985112749979, (3, 8, True, 'u'): -4.75, (3, 8, True, 'd'): -5.75925, (3, 8, True, 'l'): -3.672455205365001, (3, 8, True, 'r'): -4.75, (3, 8, True, 'p'): -8.078, (3, 8, True, 'c'): -3.705}\n"
     ]
    }
   ],
   "source": [
    "a.print_Q_table()"
   ]
  },
  {
   "cell_type": "markdown",
   "id": "1f95d1a0",
   "metadata": {},
   "source": [
    "#### Policy from start"
   ]
  },
  {
   "cell_type": "code",
   "execution_count": 7,
   "id": "31198a6d",
   "metadata": {},
   "outputs": [
    {
     "name": "stdout",
     "output_type": "stream",
     "text": [
      "Policy from start\n",
      "(3, 7, False) l -> (3, 6, False)\n",
      "(3, 6, False) d -> (2, 6, False)\n",
      "(2, 6, False) l -> (2, 5, False)\n",
      "(2, 5, False) d -> (1, 5, False)\n",
      "(1, 5, False) l -> (1, 4, False)\n",
      "(1, 4, False) l -> (1, 3, False)\n",
      "(1, 3, False) l -> (1, 2, False)\n",
      "(1, 2, False) l -> (1, 1, False)\n",
      "(1, 1, False) l -> (1, 0, False)\n",
      "(1, 0, False) u -> (2, 0, False)\n",
      "(2, 0, False) p -> (2, 0, True)\n",
      "(2, 0, True) d -> (1, 0, True)\n",
      "(1, 0, True) r -> (1, 1, True)\n",
      "(1, 1, True) r -> (1, 2, True)\n",
      "(1, 2, True) r -> (1, 3, True)\n",
      "(1, 3, True) u -> (2, 3, True)\n",
      "(2, 3, True) u -> (3, 3, True)\n",
      "(3, 3, True) l -> (3, 2, True)\n",
      "(3, 2, True) l -> (3, 1, True)\n",
      "(3, 1, True) l -> (3, 0, True)\n",
      "(3, 0, True) c -> (3, 0, True)\n",
      "Finished\n"
     ]
    }
   ],
   "source": [
    "a.print_policy(start)"
   ]
  },
  {
   "cell_type": "markdown",
   "id": "0785489b",
   "metadata": {},
   "source": [
    "#### policy with and without beater states\n",
    "\n",
    "(for an easy read i decided to split the state: with and without beater)"
   ]
  },
  {
   "cell_type": "code",
   "execution_count": 8,
   "id": "0831a923",
   "metadata": {},
   "outputs": [
    {
     "name": "stdout",
     "output_type": "stream",
     "text": [
      "Optimal Policy\n",
      "(0, 0, True) r | (0, 1, True) r | (0, 2, True) r | (0, 3, True) u | (0, 4, True) - | (0, 5, True) u | (0, 6, True) l | (0, 7, True) l | (0, 8, True) l | (1, 0, True) r | (1, 1, True) r | (1, 2, True) r | (1, 3, True) u | (1, 4, True) l | (1, 5, True) l | (1, 6, True) l | (1, 7, True) r | (1, 8, True) d | (2, 0, True) d | (2, 1, True) u | (2, 2, True) u | (2, 3, True) l | (2, 4, True) - | (2, 5, True) d | (2, 6, True) d | (2, 7, True) r | (2, 8, True) d | (3, 0, True) c | (3, 1, True) l | (3, 2, True) l | (3, 3, True) l | (3, 4, True) - | (3, 5, True) d | (3, 6, True) l | (3, 7, True) l | (3, 8, True) l | "
     ]
    }
   ],
   "source": [
    "a.print_policy_grid(True)"
   ]
  },
  {
   "cell_type": "code",
   "execution_count": 9,
   "id": "0446c9e0",
   "metadata": {},
   "outputs": [
    {
     "name": "stdout",
     "output_type": "stream",
     "text": [
      "Optimal Policy\n",
      "(0, 0, False) r | (0, 1, False) r | (0, 2, False) r | (0, 3, False) u | (0, 4, False) - | (0, 5, False) u | (0, 6, False) l | (0, 7, False) r | (0, 8, False) u | (1, 0, False) u | (1, 1, False) l | (1, 2, False) l | (1, 3, False) l | (1, 4, False) l | (1, 5, False) l | (1, 6, False) l | (1, 7, False) u | (1, 8, False) u | (2, 0, False) p | (2, 1, False) r | (2, 2, False) r | (2, 3, False) d | (2, 4, False) - | (2, 5, False) d | (2, 6, False) l | (2, 7, False) p | (2, 8, False) l | (3, 0, False) r | (3, 1, False) d | (3, 2, False) r | (3, 3, False) d | (3, 4, False) - | (3, 5, False) d | (3, 6, False) d | (3, 7, False) l | (3, 8, False) l | "
     ]
    }
   ],
   "source": [
    "a.print_policy_grid(False)"
   ]
  },
  {
   "cell_type": "markdown",
   "id": "ea3d0cf6",
   "metadata": {},
   "source": [
    "# Print Grid \n",
    "It is an additional function used to visualize the posicy inside the environment, as befor the print has been divided in two cases with beater and without.\n",
    "as remark the action performed by the agent are the following:\n",
    "\n",
    "The agent can perform 6 actions:\n",
    "\n",
    "- MOVE LEFT = \"l\"\n",
    "- MOVE RIGHT = \"r\"\n",
    "- MOVE UP = \"u\"\n",
    "- MOVE DOWN = \"d\"\n",
    "- PICK BEATER = \"p\"\n",
    "- COOK = \"c\"\n",
    "\n",
    "the best action of the policy is printed inside each cell of the environment."
   ]
  },
  {
   "cell_type": "code",
   "execution_count": 1,
   "id": "686f3a1c",
   "metadata": {},
   "outputs": [],
   "source": [
    "def print_grid(s):\n",
    "    grid_size = ceil(sqrt(len(s))) # A square size\n",
    "    # print(grid_size)\n",
    "    num_rows = 4 #grid_size\n",
    "    num_cols = 9 #grid_size\n",
    "\n",
    "    for row in range(num_rows):\n",
    "        for col in range(num_cols-1):\n",
    "            print(\"+---\",end=\"\")\n",
    "\n",
    "        print(\"+---+\")\n",
    "\n",
    "        for col in range(num_cols):\n",
    "            i = row*num_cols+col            \n",
    "            c = s[i]  if i<len(s)  else \" \"\n",
    "\n",
    "            print (f\"| {c} \",end=\"\")\n",
    "\n",
    "        print(\"|\")\n",
    "\n",
    "\n",
    "    for col in range(num_cols-1):\n",
    "        print(\"+---\",end=\"\")\n",
    "\n",
    "    print(\"+---+\")"
   ]
  },
  {
   "cell_type": "markdown",
   "id": "e95f55db",
   "metadata": {},
   "source": [
    "#### OptimalPolicy in the grid with beater"
   ]
  },
  {
   "cell_type": "code",
   "execution_count": 11,
   "id": "1040f22c",
   "metadata": {},
   "outputs": [
    {
     "name": "stdout",
     "output_type": "stream",
     "text": [
      "OptimalPolicy in the grid with beater =True\n",
      "+---+---+---+---+---+---+---+---+---+\n",
      "| c | l | l | l | - | d | l | l | l |\n",
      "+---+---+---+---+---+---+---+---+---+\n",
      "| d | u | u | u | - | d | d | d | d |\n",
      "+---+---+---+---+---+---+---+---+---+\n",
      "| r | r | r | u | l | l | l | r | d |\n",
      "+---+---+---+---+---+---+---+---+---+\n",
      "| r | r | r | u | - | u | u | l | l |\n",
      "+---+---+---+---+---+---+---+---+---+\n"
     ]
    }
   ],
   "source": [
    "print_grid(a.get_policy_in_grid(True))"
   ]
  },
  {
   "cell_type": "markdown",
   "id": "48c32e5f",
   "metadata": {},
   "source": [
    "#### OptimalPolicy in the grid without beater"
   ]
  },
  {
   "cell_type": "code",
   "execution_count": 12,
   "id": "ba48ed58",
   "metadata": {},
   "outputs": [
    {
     "name": "stdout",
     "output_type": "stream",
     "text": [
      "OptimalPolicy in the grid with beater =False\n",
      "+---+---+---+---+---+---+---+---+---+\n",
      "| r | d | r | d | - | d | d | l | l |\n",
      "+---+---+---+---+---+---+---+---+---+\n",
      "| p | r | r | d | - | d | l | p | l |\n",
      "+---+---+---+---+---+---+---+---+---+\n",
      "| u | l | l | l | l | l | l | u | u |\n",
      "+---+---+---+---+---+---+---+---+---+\n",
      "| r | r | r | u | - | u | l | r | u |\n",
      "+---+---+---+---+---+---+---+---+---+\n"
     ]
    }
   ],
   "source": [
    "print_grid(a.get_policy_in_grid(False))"
   ]
  },
  {
   "cell_type": "code",
   "execution_count": null,
   "id": "9bd70963",
   "metadata": {},
   "outputs": [],
   "source": []
  }
 ],
 "metadata": {
  "kernelspec": {
   "display_name": "Python 3 (ipykernel)",
   "language": "python",
   "name": "python3"
  },
  "language_info": {
   "codemirror_mode": {
    "name": "ipython",
    "version": 3
   },
   "file_extension": ".py",
   "mimetype": "text/x-python",
   "name": "python",
   "nbconvert_exporter": "python",
   "pygments_lexer": "ipython3",
   "version": "3.8.13"
  }
 },
 "nbformat": 4,
 "nbformat_minor": 5
}
